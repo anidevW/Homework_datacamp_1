{
  "nbformat": 4,
  "nbformat_minor": 0,
  "metadata": {
    "colab": {
      "name": "day1_quiz8.ipynb",
      "provenance": []
    },
    "kernelspec": {
      "name": "python3",
      "display_name": "Python 3"
    }
  },
  "cells": [
    {
      "cell_type": "code",
      "metadata": {
        "id": "iGT2D7bp9JYU",
        "colab_type": "code",
        "outputId": "cb70f036-93f9-4395-ef8c-08fe8359ff39",
        "colab": {
          "base_uri": "https://localhost:8080/",
          "height": 34
        }
      },
      "source": [
        "A =[1,2,3,4,5]\n",
        "B =[2,3,1,3,2]\n",
        "result = map(lambda a,b:b**a,A,B)\n",
        "print(list(result))"
      ],
      "execution_count": 0,
      "outputs": [
        {
          "output_type": "stream",
          "text": [
            "[2, 9, 1, 81, 32]\n"
          ],
          "name": "stdout"
        }
      ]
    },
    {
      "cell_type": "code",
      "metadata": {
        "id": "gzhhX6aasN9R",
        "colab_type": "code",
        "outputId": "661c2824-04b4-4e51-e8ee-318b5664d47f",
        "colab": {
          "base_uri": "https://localhost:8080/",
          "height": 34
        }
      },
      "source": [
        "name = ['Amedeo Avogadro','Jacob Berzelius','Niels Bohr']\n",
        "number = [12,13,14]\n",
        "score = [65,62,85]\n",
        "mapped = list(zip(name,number,score))\n",
        "print(mapped)"
      ],
      "execution_count": 0,
      "outputs": [
        {
          "output_type": "stream",
          "text": [
            "[('Amedeo Avogadro', 12, 65), ('Jacob Berzelius', 13, 62), ('Niels Bohr', 14, 85)]\n"
          ],
          "name": "stdout"
        }
      ]
    },
    {
      "cell_type": "code",
      "metadata": {
        "id": "x5nIeGR3twmt",
        "colab_type": "code",
        "colab": {}
      },
      "source": [
        ""
      ],
      "execution_count": 0,
      "outputs": []
    }
  ]
}