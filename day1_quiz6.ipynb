{
  "nbformat": 4,
  "nbformat_minor": 0,
  "metadata": {
    "colab": {
      "name": "day1_quiz6.ipynb",
      "provenance": []
    },
    "kernelspec": {
      "name": "python3",
      "display_name": "Python 3"
    }
  },
  "cells": [
    {
      "cell_type": "code",
      "metadata": {
        "id": "CXr6PEFbxdOc",
        "colab_type": "code",
        "outputId": "28ed4c89-79d7-4788-c4c3-4fa14584a342",
        "colab": {
          "base_uri": "https://localhost:8080/",
          "height": 34
        }
      },
      "source": [
        "lst = [1,2,3,4,5]\n",
        "lst2 = [item * 2 - 1 for item in lst]\n",
        "print(lst2)"
      ],
      "execution_count": 0,
      "outputs": [
        {
          "output_type": "stream",
          "text": [
            "[1, 3, 5, 7, 9]\n"
          ],
          "name": "stdout"
        }
      ]
    },
    {
      "cell_type": "code",
      "metadata": {
        "id": "QVY0snkXyIFm",
        "colab_type": "code",
        "outputId": "71ea817a-6694-4461-e621-94747bb8c8f2",
        "colab": {
          "base_uri": "https://localhost:8080/",
          "height": 34
        }
      },
      "source": [
        "lst = [1,2,3,4,5,6,7,8,9,10,11,12,13]\n",
        "lst2 = [item ** 3 for item in lst if item%3 != 0]\n",
        "print(lst2)"
      ],
      "execution_count": 0,
      "outputs": [
        {
          "output_type": "stream",
          "text": [
            "[1, 8, 64, 125, 343, 512, 1000, 1331, 2197]\n"
          ],
          "name": "stdout"
        }
      ]
    }
  ]
}