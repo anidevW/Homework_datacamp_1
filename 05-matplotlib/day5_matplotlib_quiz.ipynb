{
  "nbformat": 4,
  "nbformat_minor": 0,
  "metadata": {
    "colab": {
      "name": "day5-matplotlib-quiz.ipynb",
      "provenance": []
    },
    "kernelspec": {
      "name": "python3",
      "display_name": "Python 3"
    }
  },
  "cells": [
    {
      "cell_type": "markdown",
      "metadata": {
        "id": "Uwu_BZDyQZ7p"
      },
      "source": [
        "1) สร้างกราฟธรรมดาเป็นฟังก์ชั่น Y = X^2 พร้อมใส่ชื่อกราฟ รายละเอียดแต่ละแกน"
      ]
    },
    {
      "cell_type": "code",
      "metadata": {
        "id": "70BfpB61PF8D"
      },
      "source": [
        "import pandas as pd\n",
        "import matplotlib.pyplot as plt\n",
        "%matplotlib inline"
      ],
      "execution_count": null,
      "outputs": []
    },
    {
      "cell_type": "code",
      "metadata": {
        "id": "6TP9YBSIQqfo",
        "outputId": "474e23a6-a327-4de4-ef92-f0fd586b8c27",
        "colab": {
          "base_uri": "https://localhost:8080/",
          "height": 312
        }
      },
      "source": [
        "x = np.arange(10)\n",
        "y = x**2\n",
        "plt.plot(x,y,ls='--',marker='')\n",
        "plt.xlabel('X')\n",
        "plt.ylabel('Y')\n",
        "plt.title('y=x^2')\n",
        "plt.show"
      ],
      "execution_count": null,
      "outputs": [
        {
          "output_type": "execute_result",
          "data": {
            "text/plain": [
              "<function matplotlib.pyplot.show>"
            ]
          },
          "metadata": {
            "tags": []
          },
          "execution_count": 4
        },
        {
          "output_type": "display_data",
          "data": {
            "image/png": "[encoded data removed]",
            "text/plain": [
              "<Figure size 432x288 with 1 Axes>"
            ]
          },
          "metadata": {
            "tags": []
          }
        }
      ]
    },
    {
      "cell_type": "markdown",
      "metadata": {
        "id": "utoEK1CSQ3OF"
      },
      "source": [
        "2) สร้างกราฟฟังก์ชั่น Sin (เหมือนตัวอย่าง) พร้อมใส่ชื่อกราฟ รายละเอียดแต่ละแกน เปลี่ยนสีเส้นเป็นสีชมพู"
      ]
    },
    {
      "cell_type": "code",
      "metadata": {
        "id": "Ff7iMO8RQ-jK",
        "outputId": "e72841df-25e5-4a2b-9e92-b0f84053dc81",
        "colab": {
          "base_uri": "https://localhost:8080/",
          "height": 312
        }
      },
      "source": [
        "x = np.arange(361)\n",
        "y = np.sin(x*np.pi/90)\n",
        "plt.plot(x,y,c='m')\n",
        "plt.xlabel('X , Degree')\n",
        "plt.ylabel('Y')\n",
        "plt.title('y=sinx')\n",
        "plt.show"
      ],
      "execution_count": null,
      "outputs": [
        {
          "output_type": "execute_result",
          "data": {
            "text/plain": [
              "<function matplotlib.pyplot.show>"
            ]
          },
          "metadata": {
            "tags": []
          },
          "execution_count": 5
        },
        {
          "output_type": "display_data",
          "data": {
            "image/png": "[encoded data removed]",
            "text/plain": [
              "<Figure size 432x288 with 1 Axes>"
            ]
          },
          "metadata": {
            "tags": []
          }
        }
      ]
    },
    {
      "cell_type": "markdown",
      "metadata": {
        "id": "0dmVmqTUSjBj"
      },
      "source": [
        "3) สร้างกราฟธรรมดาเป็นฟังก์ชั่น X = Y^2 พร้อมใส่ชื่อกราฟ รายละเอียดแต่ละแกน เปลี่ยนสีเส้นเป็นสีเขียวอ่อนโดยใช้ค่ารหัสสีฐานสิบหก"
      ]
    },
    {
      "cell_type": "code",
      "metadata": {
        "id": "UmUjSbQyTQcl",
        "outputId": "53974d73-5049-4b10-cfe9-c4216e8eb1a6",
        "colab": {
          "base_uri": "https://localhost:8080/",
          "height": 295
        }
      },
      "source": [
        "y = np.arange(1, 90)\n",
        "x=y**2  \n",
        "plt.plot(x, y, c='#66ff66')\n",
        "plt.title(\"x = Y^2\")\n",
        "plt.xlabel('X')\n",
        "plt.ylabel('Y')\n",
        "plt.show()"
      ],
      "execution_count": null,
      "outputs": [
        {
          "output_type": "display_data",
          "data": {
            "image/png": "[encoded data removed]",
            "text/plain": [
              "<Figure size 432x288 with 1 Axes>"
            ]
          },
          "metadata": {
            "tags": []
          }
        }
      ]
    },
    {
      "cell_type": "markdown",
      "metadata": {
        "id": "xt0LHonxT2KQ"
      },
      "source": [
        "4) สร้างกราฟฟังก์ชั่น Cos (เหมือนตัวอย่าง) พร้อมใส่ชื่อกราฟ รายละเอียดแต่ละแกน เปลี่ยนสีเส้นเป็นสีแดง ใส่ Line Style เป็นเส้น ---"
      ]
    },
    {
      "cell_type": "code",
      "metadata": {
        "id": "6QfWK8VjUCGL",
        "outputId": "8accffd5-9e82-465f-d9f7-eb3d984e0632",
        "colab": {
          "base_uri": "https://localhost:8080/",
          "height": 312
        }
      },
      "source": [
        "x = np.arange(361)\n",
        "y = np.cos(x*np.pi/90)\n",
        "plt.plot(x,y,c='r',ls='--')\n",
        "plt.xlabel('X , Degree')\n",
        "plt.ylabel('Y')\n",
        "plt.title('y=cosx')\n",
        "plt.show"
      ],
      "execution_count": null,
      "outputs": [
        {
          "output_type": "execute_result",
          "data": {
            "text/plain": [
              "<function matplotlib.pyplot.show>"
            ]
          },
          "metadata": {
            "tags": []
          },
          "execution_count": 7
        },
        {
          "output_type": "display_data",
          "data": {
            "image/png": "[encoded data removed]",
            "text/plain": [
              "<Figure size 432x288 with 1 Axes>"
            ]
          },
          "metadata": {
            "tags": []
          }
        }
      ]
    },
    {
      "cell_type": "markdown",
      "metadata": {
        "id": "SsyVD2SBU0Tw"
      },
      "source": [
        "5) สร้างกราฟธรรมดาเป็นฟังก์ชั่น Y = X^2 และ Y = X^3 พล็อตลงในรูปเดียวกัน พร้อมใส่ชื่อกราฟ รายละเอียดแต่ละแกน ใช้สีแดงและน้ำเงินตามลำดับ โดยเส้นแรกใช้วงกลมเป็น markerและเส้นสองใช้สามเหลี่ยมเป็น marker"
      ]
    },
    {
      "cell_type": "code",
      "metadata": {
        "id": "kge9XWy7U7SM",
        "outputId": "d5750dea-6597-41ee-e329-d367b7c875c9",
        "colab": {
          "base_uri": "https://localhost:8080/",
          "height": 312
        }
      },
      "source": [
        "x = np.arange(10)\n",
        "y1 = x**2\n",
        "y2 = x**3\n",
        "plt.plot(x,y1,c='#cc3300',marker='o',label='y=x^2')\n",
        "plt.plot(x,y2,c='#3399ff',marker='^',label='y=x^3')\n",
        "plt.xlabel('X')\n",
        "plt.ylabel('Y')\n",
        "plt.title('y=x^2 vs y=x^3')\n",
        "plt.legend(loc=2)\n",
        "plt.show"
      ],
      "execution_count": null,
      "outputs": [
        {
          "output_type": "execute_result",
          "data": {
            "text/plain": [
              "<function matplotlib.pyplot.show>"
            ]
          },
          "metadata": {
            "tags": []
          },
          "execution_count": 8
        },
        {
          "output_type": "display_data",
          "data": {
            "image/png": "[encoded data removed]",
            "text/plain": [
              "<Figure size 432x288 with 1 Axes>"
            ]
          },
          "metadata": {
            "tags": []
          }
        }
      ]
    },
    {
      "cell_type": "markdown",
      "metadata": {
        "id": "ldy5HJjJVb8e"
      },
      "source": [
        "6) สร้างกราฟธรรมดาเป็นฟังก์ชั่น Y = X^2 และ X = Y^2 พล็อตลงในรูปเดียวกัน พร้อมใส่ชื่อกราฟ รายละเอียดแต่ละแกน ใช้สีแดงและน้ำเงินตามลำดับ โดยเส้นแรกใช้วงกลมเป็น marker และเส้นสองใช้สามเหลี่ยมเป็น marker และใส่ legend และเพิ่มเส้นตารางข้างหลัง"
      ]
    },
    {
      "cell_type": "code",
      "metadata": {
        "id": "wzNCxvLeWCI0",
        "outputId": "43e12bfc-c11c-440c-d123-b3a542e06d1a",
        "colab": {
          "base_uri": "https://localhost:8080/",
          "height": 312
        }
      },
      "source": [
        "x = np.arange(10)\n",
        "y1 = x**2\n",
        "y2 = x**(1/2)\n",
        "plt.plot(x,y1,c='#cc3300',marker='o',label='y=x^2')\n",
        "plt.plot(x,y2,c='#3399ff',marker='^',label='y=x^(1/2)')\n",
        "plt.xlabel('X')\n",
        "plt.ylabel('Y')\n",
        "plt.title('y=x^2 vs y=x^(1/2)')\n",
        "plt.legend(loc=2)\n",
        "plt.grid()\n",
        "plt.show"
      ],
      "execution_count": null,
      "outputs": [
        {
          "output_type": "execute_result",
          "data": {
            "text/plain": [
              "<function matplotlib.pyplot.show>"
            ]
          },
          "metadata": {
            "tags": []
          },
          "execution_count": 9
        },
        {
          "output_type": "display_data",
          "data": {
            "image/png": "[encoded data removed]",
            "text/plain": [
              "<Figure size 432x288 with 1 Axes>"
            ]
          },
          "metadata": {
            "tags": []
          }
        }
      ]
    },
    {
      "cell_type": "markdown",
      "metadata": {
        "id": "xokWnyxWWM2M"
      },
      "source": [
        "7) สร้างกราฟธรรมดาเป็นฟังก์ชั่น X = Y^2 + 4*Y พร้อมใส่ชื่อกราฟ รายละเอียดแต่ละแกนเปลี่ยนสีเส้นเป็นสีเหลืองอ่อนโดยใช้ค่ารหัสสีฐานสิบหก จำกัดแกน X และ Y ให้เหมาะสม"
      ]
    },
    {
      "cell_type": "code",
      "metadata": {
        "id": "-6YqTUGFWV3E",
        "outputId": "fb013fd0-be9e-4a08-bde0-69c3f48f3d5d",
        "colab": {
          "base_uri": "https://localhost:8080/",
          "height": 312
        }
      },
      "source": [
        "y = np.arange(-20,20)\n",
        "x = y**2+4*y\n",
        "\n",
        "plt.plot(x,y,c='#ffff00',marker='o',label='X = Y^2 + 4*Y')\n",
        "\n",
        "plt.xlabel('X')\n",
        "plt.ylabel('Y')\n",
        "plt.title('x=y^2+4*y')\n",
        "plt.legend(loc=2)\n",
        "plt.grid()\n",
        "plt.ylim(-15,15)\n",
        "plt.show"
      ],
      "execution_count": null,
      "outputs": [
        {
          "output_type": "execute_result",
          "data": {
            "text/plain": [
              "<function matplotlib.pyplot.show>"
            ]
          },
          "metadata": {
            "tags": []
          },
          "execution_count": 10
        },
        {
          "output_type": "display_data",
          "data": {
            "image/png": "[encoded data removed]",
            "text/plain": [
              "<Figure size 432x288 with 1 Axes>"
            ]
          },
          "metadata": {
            "tags": []
          }
        }
      ]
    },
    {
      "cell_type": "markdown",
      "metadata": {
        "id": "BA_TUApGWvRs"
      },
      "source": [
        "8) สร้างกราฟใหญ่ด้วยสมการ X = Y^3 และกราฟเล็กด้วย Y = X^2 + 2 พล็อตลงในรูปเดียวกันพร้อมใส่ชื่อกราฟ รายละเอียดแต่ละแกน และใส่ legend"
      ]
    },
    {
      "cell_type": "code",
      "metadata": {
        "id": "Nq8UZGcCW3V0",
        "outputId": "d1aec248-f016-4cc4-9f17-4d8540098b66",
        "colab": {
          "base_uri": "https://localhost:8080/",
          "height": 366
        }
      },
      "source": [
        "y = np.arange(0, 20)\n",
        "x = y**3\n",
        "\n",
        "x1 = np.arange(0, 20)\n",
        "y1 = x1**2 + 2\n",
        "\n",
        "fig = plt.figure()\n",
        "ax1 = fig.add_axes([0.1, 0.1, 1, 1])\n",
        "ax1.plot(x, y, label= 'x = y ^3')\n",
        "ax1.set_title('X = Y ^ 3')\n",
        "ax1.set(xlabel = 'X', ylabel ='Y')\n",
        "ax1.legend(loc=0)\n",
        "\n",
        "ax2 = fig.add_axes([0.6, 0.35, 0.3, 0.3])\n",
        "ax2.plot(x1, y1, label= 'y = x^2 +2')\n",
        "ax2.set_title('Y = X^2 + 2')\n",
        "ax2.set(xlabel = 'X', ylabel ='Y')\n",
        "ax2.legend(loc=0)\n",
        "\n",
        "plt.show()"
      ],
      "execution_count": null,
      "outputs": [
        {
          "output_type": "display_data",
          "data": {
            "image/png": "[encoded data removed]",
            "text/plain": [
              "<Figure size 432x288 with 2 Axes>"
            ]
          },
          "metadata": {
            "tags": []
          }
        }
      ]
    },
    {
      "cell_type": "markdown",
      "metadata": {
        "id": "QOQT92p_X_xy"
      },
      "source": [
        "ให้ import ไฟล์ titanic ไฟล์เดิมจากบทเรียน Pandas เข้าสู่ Jupyter Notebook สามารถใช้ Pandas มาร่วมทำด้วย\n",
        "\n",
        "9) ให้หาอัตราส่วนตั๋วโดยสารชั้น 1 2 3 และพล็อตเป็น Pie chart"
      ]
    },
    {
      "cell_type": "code",
      "metadata": {
        "id": "OBAKR8MnYFPB",
        "outputId": "ca798136-896a-413d-bae5-74c1c3ec8e36",
        "colab": {
          "resources": {
            "http://localhost:8080/nbextensions/google.colab/files.js": {
              "data": "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",
              "ok": true,
              "headers": [
                [
                  "content-type",
                  "application/javascript"
                ]
              ],
              "status": 200,
              "status_text": ""
            }
          },
          "base_uri": "https://localhost:8080/",
          "height": 74
        }
      },
      "source": [
        "import pandas as pd\n",
        "import numpy as np\n",
        "from google.colab import files\n",
        "uploaded = files.upload()"
      ],
      "execution_count": null,
      "outputs": [
        {
          "output_type": "display_data",
          "data": {
            "text/html": [
              "\n",
              "     <input type=\"file\" id=\"files-e018247c-3228-4704-b15b-3dc11ed9e295\" name=\"files[]\" multiple disabled />\n",
              "     <output id=\"result-e018247c-3228-4704-b15b-3dc11ed9e295\">\n",
              "      Upload widget is only available when the cell has been executed in the\n",
              "      current browser session. Please rerun this cell to enable.\n",
              "      </output>\n",
              "      <script src=\"/nbextensions/google.colab/files.js\"></script> "
            ],
            "text/plain": [
              "<IPython.core.display.HTML object>"
            ]
          },
          "metadata": {
            "tags": []
          }
        },
        {
          "output_type": "stream",
          "text": [
            "Saving train.csv to train (1).csv\n"
          ],
          "name": "stdout"
        }
      ]
    },
    {
      "cell_type": "code",
      "metadata": {
        "id": "ho-cB7LTYTTH"
      },
      "source": [
        "import io\n",
        "df = pd.read_csv(io.BytesIO(uploaded['train.csv']))\n",
        "# Dataset is now stored in a Pandas Dataframe"
      ],
      "execution_count": null,
      "outputs": []
    },
    {
      "cell_type": "code",
      "metadata": {
        "id": "3_RMk4TNYwmI",
        "outputId": "a72bba3c-d3da-41ff-89e4-6ea68f608368",
        "colab": {
          "base_uri": "https://localhost:8080/",
          "height": 419
        }
      },
      "source": [
        "df"
      ],
      "execution_count": null,
      "outputs": [
        {
          "output_type": "execute_result",
          "data": {
            "text/html": [
              "<div>\n",
              "<style scoped>\n",
              "    .dataframe tbody tr th:only-of-type {\n",
              "        vertical-align: middle;\n",
              "    }\n",
              "\n",
              "    .dataframe tbody tr th {\n",
              "        vertical-align: top;\n",
              "    }\n",
              "\n",
              "    .dataframe thead th {\n",
              "        text-align: right;\n",
              "    }\n",
              "</style>\n",
              "<table border=\"1\" class=\"dataframe\">\n",
              "  <thead>\n",
              "    <tr style=\"text-align: right;\">\n",
              "      <th></th>\n",
              "      <th>PassengerId</th>\n",
              "      <th>Survived</th>\n",
              "      <th>Pclass</th>\n",
              "      <th>Name</th>\n",
              "      <th>Sex</th>\n",
              "      <th>Age</th>\n",
              "      <th>SibSp</th>\n",
              "      <th>Parch</th>\n",
              "      <th>Ticket</th>\n",
              "      <th>Fare</th>\n",
              "      <th>Cabin</th>\n",
              "      <th>Embarked</th>\n",
              "    </tr>\n",
              "  </thead>\n",
              "  <tbody>\n",
              "    <tr>\n",
              "      <th>0</th>\n",
              "      <td>1</td>\n",
              "      <td>0</td>\n",
              "      <td>3</td>\n",
              "      <td>Braund, Mr. Owen Harris</td>\n",
              "      <td>male</td>\n",
              "      <td>22.0</td>\n",
              "      <td>1</td>\n",
              "      <td>0</td>\n",
              "      <td>A/5 21171</td>\n",
              "      <td>7.2500</td>\n",
              "      <td>NaN</td>\n",
              "      <td>S</td>\n",
              "    </tr>\n",
              "    <tr>\n",
              "      <th>1</th>\n",
              "      <td>2</td>\n",
              "      <td>1</td>\n",
              "      <td>1</td>\n",
              "      <td>Cumings, Mrs. John Bradley (Florence Briggs Th...</td>\n",
              "      <td>female</td>\n",
              "      <td>38.0</td>\n",
              "      <td>1</td>\n",
              "      <td>0</td>\n",
              "      <td>PC 17599</td>\n",
              "      <td>71.2833</td>\n",
              "      <td>C85</td>\n",
              "      <td>C</td>\n",
              "    </tr>\n",
              "    <tr>\n",
              "      <th>2</th>\n",
              "      <td>3</td>\n",
              "      <td>1</td>\n",
              "      <td>3</td>\n",
              "      <td>Heikkinen, Miss. Laina</td>\n",
              "      <td>female</td>\n",
              "      <td>26.0</td>\n",
              "      <td>0</td>\n",
              "      <td>0</td>\n",
              "      <td>STON/O2. 3101282</td>\n",
              "      <td>7.9250</td>\n",
              "      <td>NaN</td>\n",
              "      <td>S</td>\n",
              "    </tr>\n",
              "    <tr>\n",
              "      <th>3</th>\n",
              "      <td>4</td>\n",
              "      <td>1</td>\n",
              "      <td>1</td>\n",
              "      <td>Futrelle, Mrs. Jacques Heath (Lily May Peel)</td>\n",
              "      <td>female</td>\n",
              "      <td>35.0</td>\n",
              "      <td>1</td>\n",
              "      <td>0</td>\n",
              "      <td>113803</td>\n",
              "      <td>53.1000</td>\n",
              "      <td>C123</td>\n",
              "      <td>S</td>\n",
              "    </tr>\n",
              "    <tr>\n",
              "      <th>4</th>\n",
              "      <td>5</td>\n",
              "      <td>0</td>\n",
              "      <td>3</td>\n",
              "      <td>Allen, Mr. William Henry</td>\n",
              "      <td>male</td>\n",
              "      <td>35.0</td>\n",
              "      <td>0</td>\n",
              "      <td>0</td>\n",
              "      <td>373450</td>\n",
              "      <td>8.0500</td>\n",
              "      <td>NaN</td>\n",
              "      <td>S</td>\n",
              "    </tr>\n",
              "    <tr>\n",
              "      <th>...</th>\n",
              "      <td>...</td>\n",
              "      <td>...</td>\n",
              "      <td>...</td>\n",
              "      <td>...</td>\n",
              "      <td>...</td>\n",
              "      <td>...</td>\n",
              "      <td>...</td>\n",
              "      <td>...</td>\n",
              "      <td>...</td>\n",
              "      <td>...</td>\n",
              "      <td>...</td>\n",
              "      <td>...</td>\n",
              "    </tr>\n",
              "    <tr>\n",
              "      <th>886</th>\n",
              "      <td>887</td>\n",
              "      <td>0</td>\n",
              "      <td>2</td>\n",
              "      <td>Montvila, Rev. Juozas</td>\n",
              "      <td>male</td>\n",
              "      <td>27.0</td>\n",
              "      <td>0</td>\n",
              "      <td>0</td>\n",
              "      <td>211536</td>\n",
              "      <td>13.0000</td>\n",
              "      <td>NaN</td>\n",
              "      <td>S</td>\n",
              "    </tr>\n",
              "    <tr>\n",
              "      <th>887</th>\n",
              "      <td>888</td>\n",
              "      <td>1</td>\n",
              "      <td>1</td>\n",
              "      <td>Graham, Miss. Margaret Edith</td>\n",
              "      <td>female</td>\n",
              "      <td>19.0</td>\n",
              "      <td>0</td>\n",
              "      <td>0</td>\n",
              "      <td>112053</td>\n",
              "      <td>30.0000</td>\n",
              "      <td>B42</td>\n",
              "      <td>S</td>\n",
              "    </tr>\n",
              "    <tr>\n",
              "      <th>888</th>\n",
              "      <td>889</td>\n",
              "      <td>0</td>\n",
              "      <td>3</td>\n",
              "      <td>Johnston, Miss. Catherine Helen \"Carrie\"</td>\n",
              "      <td>female</td>\n",
              "      <td>NaN</td>\n",
              "      <td>1</td>\n",
              "      <td>2</td>\n",
              "      <td>W./C. 6607</td>\n",
              "      <td>23.4500</td>\n",
              "      <td>NaN</td>\n",
              "      <td>S</td>\n",
              "    </tr>\n",
              "    <tr>\n",
              "      <th>889</th>\n",
              "      <td>890</td>\n",
              "      <td>1</td>\n",
              "      <td>1</td>\n",
              "      <td>Behr, Mr. Karl Howell</td>\n",
              "      <td>male</td>\n",
              "      <td>26.0</td>\n",
              "      <td>0</td>\n",
              "      <td>0</td>\n",
              "      <td>111369</td>\n",
              "      <td>30.0000</td>\n",
              "      <td>C148</td>\n",
              "      <td>C</td>\n",
              "    </tr>\n",
              "    <tr>\n",
              "      <th>890</th>\n",
              "      <td>891</td>\n",
              "      <td>0</td>\n",
              "      <td>3</td>\n",
              "      <td>Dooley, Mr. Patrick</td>\n",
              "      <td>male</td>\n",
              "      <td>32.0</td>\n",
              "      <td>0</td>\n",
              "      <td>0</td>\n",
              "      <td>370376</td>\n",
              "      <td>7.7500</td>\n",
              "      <td>NaN</td>\n",
              "      <td>Q</td>\n",
              "    </tr>\n",
              "  </tbody>\n",
              "</table>\n",
              "<p>891 rows × 12 columns</p>\n",
              "</div>"
            ],
            "text/plain": [
              "     PassengerId  Survived  Pclass  ...     Fare Cabin  Embarked\n",
              "0              1         0       3  ...   7.2500   NaN         S\n",
              "1              2         1       1  ...  71.2833   C85         C\n",
              "2              3         1       3  ...   7.9250   NaN         S\n",
              "3              4         1       1  ...  53.1000  C123         S\n",
              "4              5         0       3  ...   8.0500   NaN         S\n",
              "..           ...       ...     ...  ...      ...   ...       ...\n",
              "886          887         0       2  ...  13.0000   NaN         S\n",
              "887          888         1       1  ...  30.0000   B42         S\n",
              "888          889         0       3  ...  23.4500   NaN         S\n",
              "889          890         1       1  ...  30.0000  C148         C\n",
              "890          891         0       3  ...   7.7500   NaN         Q\n",
              "\n",
              "[891 rows x 12 columns]"
            ]
          },
          "metadata": {
            "tags": []
          },
          "execution_count": 17
        }
      ]
    },
    {
      "cell_type": "code",
      "metadata": {
        "id": "u345cNGad4m5",
        "outputId": "4c4bae4f-d628-425a-95fb-81a693f61179",
        "colab": {
          "base_uri": "https://localhost:8080/",
          "height": 85
        }
      },
      "source": [
        "#หาจำนวนผู้โดยสารในแต่ล่ะชั้น\n",
        "df1 = df['Pclass'].value_counts()\n",
        "df1"
      ],
      "execution_count": null,
      "outputs": [
        {
          "output_type": "execute_result",
          "data": {
            "text/plain": [
              "3    491\n",
              "1    216\n",
              "2    184\n",
              "Name: Pclass, dtype: int64"
            ]
          },
          "metadata": {
            "tags": []
          },
          "execution_count": 18
        }
      ]
    },
    {
      "cell_type": "code",
      "metadata": {
        "id": "k12b1FEzeFtW",
        "outputId": "b37f93a8-8f2d-4d37-e6c6-9ad2aadffd2e",
        "colab": {
          "base_uri": "https://localhost:8080/",
          "height": 320
        }
      },
      "source": [
        "num = np.array([491,216,184])\n",
        "labels = ['Pclass 3','Pclass 1','Pclass 2']\n",
        "plt.figure(figsize=[5,5])\n",
        "plt.pie(num,labels=labels)\n",
        "plt.show"
      ],
      "execution_count": null,
      "outputs": [
        {
          "output_type": "execute_result",
          "data": {
            "text/plain": [
              "<function matplotlib.pyplot.show>"
            ]
          },
          "metadata": {
            "tags": []
          },
          "execution_count": 19
        },
        {
          "output_type": "display_data",
          "data": {
            "image/png": "[encoded data removed]",
            "text/plain": [
              "<Figure size 360x360 with 1 Axes>"
            ]
          },
          "metadata": {
            "tags": []
          }
        }
      ]
    },
    {
      "cell_type": "markdown",
      "metadata": {
        "id": "WKsdUcQQm3da"
      },
      "source": [
        "10) ให้หาอัตราส่วนของจุดหมายปลายทาง (Embark) และพล็อต Pie chat พร้อมทั้งให้ Queenstown เป็น explode"
      ]
    },
    {
      "cell_type": "code",
      "metadata": {
        "id": "J-1LkVJEn5f1",
        "outputId": "40345fa0-c71d-40ec-d1c2-538ac45ca12f",
        "colab": {
          "resources": {
            "http://localhost:8080/nbextensions/google.colab/files.js": {
              "data": "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",
              "ok": true,
              "headers": [
                [
                  "content-type",
                  "application/javascript"
                ]
              ],
              "status": 200,
              "status_text": ""
            }
          },
          "base_uri": "https://localhost:8080/",
          "height": 74
        }
      },
      "source": [
        "import pandas as pd\n",
        "import matplotlib.pyplot as plt\n",
        "%matplotlib inline\n",
        "import numpy as np\n",
        "from google.colab import files\n",
        "uploaded = files.upload()"
      ],
      "execution_count": null,
      "outputs": [
        {
          "output_type": "display_data",
          "data": {
            "text/html": [
              "\n",
              "     <input type=\"file\" id=\"files-51b2c0ce-2cfa-462e-843e-51bdf996f81b\" name=\"files[]\" multiple disabled />\n",
              "     <output id=\"result-51b2c0ce-2cfa-462e-843e-51bdf996f81b\">\n",
              "      Upload widget is only available when the cell has been executed in the\n",
              "      current browser session. Please rerun this cell to enable.\n",
              "      </output>\n",
              "      <script src=\"/nbextensions/google.colab/files.js\"></script> "
            ],
            "text/plain": [
              "<IPython.core.display.HTML object>"
            ]
          },
          "metadata": {
            "tags": []
          }
        },
        {
          "output_type": "stream",
          "text": [
            "Saving train.csv to train (2).csv\n"
          ],
          "name": "stdout"
        }
      ]
    },
    {
      "cell_type": "code",
      "metadata": {
        "id": "vPuN7llnn_sB"
      },
      "source": [
        "import io\n",
        "df = pd.read_csv(io.BytesIO(uploaded['train.csv']))\n",
        "# Dataset is now stored in a Pandas Dataframe"
      ],
      "execution_count": null,
      "outputs": []
    },
    {
      "cell_type": "code",
      "metadata": {
        "id": "aLeq7EmelRV7",
        "outputId": "4386effa-34bb-4358-b71f-628207f58f0a",
        "colab": {
          "base_uri": "https://localhost:8080/",
          "height": 85
        }
      },
      "source": [
        "\n",
        "\n",
        "df1 = df['Embarked'].value_counts()\n",
        "df1"
      ],
      "execution_count": null,
      "outputs": [
        {
          "output_type": "execute_result",
          "data": {
            "text/plain": [
              "S    644\n",
              "C    168\n",
              "Q     77\n",
              "Name: Embarked, dtype: int64"
            ]
          },
          "metadata": {
            "tags": []
          },
          "execution_count": 6
        }
      ]
    },
    {
      "cell_type": "code",
      "metadata": {
        "id": "exfeSeYJmUlE",
        "outputId": "894e7766-0ded-405f-d354-f7de6705b8d2",
        "colab": {
          "base_uri": "https://localhost:8080/",
          "height": 34
        }
      },
      "source": [
        "num = np.array([644,168,77])\n",
        "num2 = num/np.sum(num)\n",
        "explode=[0,0,0.2]\n",
        "labels = ['Southampton','Cherbourg','Queenstown']\n",
        "\n",
        "num2"
      ],
      "execution_count": null,
      "outputs": [
        {
          "output_type": "execute_result",
          "data": {
            "text/plain": [
              "array([0.72440945, 0.18897638, 0.08661417])"
            ]
          },
          "metadata": {
            "tags": []
          },
          "execution_count": 7
        }
      ]
    },
    {
      "cell_type": "code",
      "metadata": {
        "id": "WEpSFagNmdO5",
        "outputId": "f0858ccd-93ef-47dd-8042-91e0b77809d4",
        "colab": {
          "base_uri": "https://localhost:8080/",
          "height": 320
        }
      },
      "source": [
        "plt.figure(figsize=[5,5])\n",
        "plt.pie(num2,labels=labels,explode=explode)\n",
        "plt.show"
      ],
      "execution_count": null,
      "outputs": [
        {
          "output_type": "execute_result",
          "data": {
            "text/plain": [
              "<function matplotlib.pyplot.show>"
            ]
          },
          "metadata": {
            "tags": []
          },
          "execution_count": 11
        },
        {
          "output_type": "display_data",
          "data": {
            "image/png": "[encoded data removed]",
            "text/plain": [
              "<Figure size 360x360 with 1 Axes>"
            ]
          },
          "metadata": {
            "tags": []
          }
        }
      ]
    },
    {
      "cell_type": "markdown",
      "metadata": {
        "id": "xMZyzQTtoXL_"
      },
      "source": [
        "13) นำราคาตั๋วโดยสารทั้งหมดมาหา histogram"
      ]
    },
    {
      "cell_type": "code",
      "metadata": {
        "id": "Kx0YdMVLojA6",
        "outputId": "a11c43e6-f699-47e5-8f14-41b1478ee84e",
        "colab": {
          "base_uri": "https://localhost:8080/",
          "height": 221
        }
      },
      "source": [
        "df['Fare']"
      ],
      "execution_count": null,
      "outputs": [
        {
          "output_type": "execute_result",
          "data": {
            "text/plain": [
              "0       7.2500\n",
              "1      71.2833\n",
              "2       7.9250\n",
              "3      53.1000\n",
              "4       8.0500\n",
              "        ...   \n",
              "886    13.0000\n",
              "887    30.0000\n",
              "888    23.4500\n",
              "889    30.0000\n",
              "890     7.7500\n",
              "Name: Fare, Length: 891, dtype: float64"
            ]
          },
          "metadata": {
            "tags": []
          },
          "execution_count": 12
        }
      ]
    },
    {
      "cell_type": "code",
      "metadata": {
        "id": "wg8pU6Nrormx",
        "outputId": "bafaf77c-fd22-42cb-c95c-ff8781c3eecf",
        "colab": {
          "base_uri": "https://localhost:8080/",
          "height": 282
        }
      },
      "source": [
        "x = df['Fare']\n",
        "plt.hist(x,bins=200)\n",
        "plt.xlabel('Fare')\n",
        "plt.show()"
      ],
      "execution_count": null,
      "outputs": [
        {
          "output_type": "display_data",
          "data": {
            "image/png": "[encoded data removed]",
            "text/plain": [
              "<Figure size 432x288 with 1 Axes>"
            ]
          },
          "metadata": {
            "tags": []
          }
        }
      ]
    },
    {
      "cell_type": "markdown",
      "metadata": {
        "id": "Tj2cLoEZowH7"
      },
      "source": [
        "12) สร้างพล็อตแบบกระจายโดยให้อายุเป็นแกน X และ ราคาตั๋วโดยสารเป็นแกน Y"
      ]
    },
    {
      "cell_type": "code",
      "metadata": {
        "id": "fYXce29ko01r",
        "outputId": "28ebe0e6-f625-498d-e5ca-eb59920c68aa",
        "colab": {
          "base_uri": "https://localhost:8080/",
          "height": 367
        }
      },
      "source": [
        "x=df['Age']\n",
        "y=df['Fare']\n",
        "plt.figure(figsize=[5,5])\n",
        "plt.scatter(x,y)\n",
        "plt.title('Age vs Fare')\n",
        "plt.xlabel('Age')\n",
        "plt.ylabel('Fare')\n",
        "plt.show"
      ],
      "execution_count": null,
      "outputs": [
        {
          "output_type": "execute_result",
          "data": {
            "text/plain": [
              "<function matplotlib.pyplot.show>"
            ]
          },
          "metadata": {
            "tags": []
          },
          "execution_count": 14
        },
        {
          "output_type": "display_data",
          "data": {
            "image/png": "[encoded data removed]",
            "text/plain": [
              "<Figure size 360x360 with 1 Axes>"
            ]
          },
          "metadata": {
            "tags": []
          }
        }
      ]
    },
    {
      "cell_type": "markdown",
      "metadata": {
        "id": "rts5LDX6o-Oa"
      },
      "source": [
        "13) สร้าง bar chart โดยใช้ข้อมูลจากราคาตั๋วโดยสารเฉลี่ยแต่ละชั้น"
      ]
    },
    {
      "cell_type": "code",
      "metadata": {
        "id": "DIsdEEfSpAe6"
      },
      "source": [
        "avg1 = df[df['Pclass']==1]['Fare'].mean()\n",
        "avg2 = df[df['Pclass']==2]['Fare'].mean()\n",
        "avg3 = df[df['Pclass']==3]['Fare'].mean()"
      ],
      "execution_count": null,
      "outputs": []
    },
    {
      "cell_type": "code",
      "metadata": {
        "id": "Bbfub2-3pGS0",
        "outputId": "3fa7c374-4f3f-489c-bb8c-de4732c64d6d",
        "colab": {
          "base_uri": "https://localhost:8080/",
          "height": 336
        }
      },
      "source": [
        "y=np.array([avg1,avg2,avg3])\n",
        "x = np.array(['class 1','class 2','class 3'])\n",
        "plt.figure(figsize=[5,5])\n",
        "plt.bar(x,y)\n",
        "plt.title('class vs Avg.Fare')\n",
        "plt.ylabel('Fare')\n",
        "plt.show()"
      ],
      "execution_count": null,
      "outputs": [
        {
          "output_type": "display_data",
          "data": {
            "image/png": "[encoded data removed]",
            "text/plain": [
              "<Figure size 360x360 with 1 Axes>"
            ]
          },
          "metadata": {
            "tags": []
          }
        }
      ]
    },
    {
      "cell_type": "markdown",
      "metadata": {
        "id": "v2bl-VzZpMQQ"
      },
      "source": [
        "14) สร้าง bar chart โดยใช้ข้อมูลจากราคาตั๋วโดยสารต่ออายุของผู้โดยสาร"
      ]
    },
    {
      "cell_type": "code",
      "metadata": {
        "id": "zXpAqgWKpQeq",
        "outputId": "db2eab2c-bfe4-4cfb-8873-cecfb03a8c93",
        "colab": {
          "base_uri": "https://localhost:8080/",
          "height": 350
        }
      },
      "source": [
        "y = df['Age']/df['Fare']\n",
        "x = df['Age']\n",
        "plt.figure(figsize=[5,5])\n",
        "plt.bar(x,y)\n",
        "plt.title('Age vs Avg/Fare ratio')\n",
        "plt.xlabel('Age')\n",
        "plt.ylabel('Age/Fare')\n",
        "plt.show()"
      ],
      "execution_count": null,
      "outputs": [
        {
          "output_type": "display_data",
          "data": {
            "image/png": "[encoded data removed]",
            "text/plain": [
              "<Figure size 360x360 with 1 Axes>"
            ]
          },
          "metadata": {
            "tags": []
          }
        }
      ]
    },
    {
      "cell_type": "markdown",
      "metadata": {
        "id": "_NcsnMwDsDHb"
      },
      "source": [
        "15 สร้าง bar chart โดยใช้ข้อมูลผู้ที่นามสกุลซ้ำกัน โดยความถี่เป็นแกน Y"
      ]
    },
    {
      "cell_type": "code",
      "metadata": {
        "id": "UoH01vZqsGru",
        "outputId": "a8c4b7d1-3001-4a64-ad70-51f53ee4fd3c",
        "colab": {
          "base_uri": "https://localhost:8080/",
          "height": 71
        }
      },
      "source": [
        "name = df['Name']\n",
        "listS = []\n",
        "for i in name:\n",
        "  surname = i.split(',')[0]\n",
        "  listS.append(surname)\n",
        "print(listS) #แยกนามสกุลออกมาจากชื่อ\n",
        "len(listS)"
      ],
      "execution_count": null,
      "outputs": [
        {
          "output_type": "stream",
          "text": [
            "['Braund', 'Cumings', 'Heikkinen', 'Futrelle', 'Allen', 'Moran', 'McCarthy', 'Palsson', 'Johnson', 'Nasser', 'Sandstrom', 'Bonnell', 'Saundercock', 'Andersson', 'Vestrom', 'Hewlett', 'Rice', 'Williams', 'Vander Planke', 'Masselmani', 'Fynney', 'Beesley', 'McGowan', 'Sloper', 'Palsson', 'Asplund', 'Emir', 'Fortune', \"O'Dwyer\", 'Todoroff', 'Uruchurtu', 'Spencer', 'Glynn', 'Wheadon', 'Meyer', 'Holverson', 'Mamee', 'Cann', 'Vander Planke', 'Nicola-Yarred', 'Ahlin', 'Turpin', 'Kraeff', 'Laroche', 'Devaney', 'Rogers', 'Lennon', \"O'Driscoll\", 'Samaan', 'Arnold-Franchi', 'Panula', 'Nosworthy', 'Harper', 'Faunthorpe', 'Ostby', 'Woolner', 'Rugg', 'Novel', 'West', 'Goodwin', 'Sirayanian', 'Icard', 'Harris', 'Skoog', 'Stewart', 'Moubarek', 'Nye', 'Crease', 'Andersson', 'Kink', 'Jenkin', 'Goodwin', 'Hood', 'Chronopoulos', 'Bing', 'Moen', 'Staneff', 'Moutal', 'Caldwell', 'Dowdell', 'Waelens', 'Sheerlinck', 'McDermott', 'Carrau', 'Ilett', 'Backstrom', 'Ford', 'Slocovski', 'Fortune', 'Celotti', 'Christmann', 'Andreasson', 'Chaffee', 'Dean', 'Coxon', 'Shorney', 'Goldschmidt', 'Greenfield', 'Doling', 'Kantor', 'Petranec', 'Petroff', 'White', 'Johansson', 'Gustafsson', 'Mionoff', 'Salkjelsvik', 'Moss', 'Rekic', 'Moran', 'Porter', 'Zabour', 'Barton', 'Jussila', 'Attalah', 'Pekoniemi', 'Connors', 'Turpin', 'Baxter', 'Andersson', 'Hickman', 'Moore', 'Nasser', 'Webber', 'White', 'Nicola-Yarred', 'McMahon', 'Madsen', 'Peter', 'Ekstrom', 'Drazenoic', 'Coelho', 'Robins', 'Weisz', 'Sobey', 'Richard', 'Newsom', 'Futrelle', 'Osen', 'Giglio', 'Boulos', 'Nysten', 'Hakkarainen', 'Burke', 'Andrew', 'Nicholls', 'Andersson', 'Ford', 'Navratil', 'Byles', 'Bateman', 'Pears', 'Meo', 'van Billiard', 'Olsen', 'Williams', 'Gilnagh', 'Corn', 'Smiljanic', 'Sage', 'Cribb', 'Watt', 'Bengtsson', 'Calic', 'Panula', 'Goldsmith', 'Chibnall', 'Skoog', 'Baumann', 'Ling', 'Van der hoef', 'Rice', 'Johnson', 'Sivola', 'Smith', 'Klasen', 'Lefebre', 'Isham', 'Hale', 'Leonard', 'Sage', 'Pernot', 'Asplund', 'Becker', 'Kink-Heilmann', 'Rood', \"O'Brien\", 'Romaine', 'Bourke', 'Turcin', 'Pinsky', 'Carbines', 'Andersen-Jensen', 'Navratil', 'Brown', 'Lurette', 'Mernagh', 'Olsen', 'Madigan', 'Yrois', 'Vande Walle', 'Sage', 'Johanson', 'Youseff', 'Cohen', 'Strom', 'Backstrom', 'Albimona', 'Carr', 'Blank', 'Ali', 'Cameron', 'Perkin', 'Givard', 'Kiernan', 'Newell', 'Honkanen', 'Jacobsohn', 'Bazzani', 'Harris', 'Sunderland', 'Bracken', 'Green', 'Nenkoff', 'Hoyt', 'Berglund', 'Mellors', 'Lovell', 'Fahlstrom', 'Lefebre', 'Harris', 'Larsson', 'Sjostedt', 'Asplund', 'Leyson', 'Harknett', 'Hold', 'Collyer', 'Pengelly', 'Hunt', 'Zabour', 'Murphy', 'Coleridge', 'Maenpaa', 'Attalah', 'Minahan', 'Lindahl', 'Hamalainen', 'Beckwith', 'Carter', 'Reed', 'Strom', 'Stead', 'Lobb', 'Rosblom', 'Touma', 'Thorne', 'Cherry', 'Ward', 'Parrish', 'Smith', 'Asplund', 'Taussig', 'Harrison', 'Henry', 'Reeves', 'Panula', 'Persson', 'Graham', 'Bissette', 'Cairns', 'Tornquist', 'Mellinger', 'Natsch', 'Healy', 'Andrews', 'Lindblom', 'Parkes', 'Rice', 'Abbott', 'Duane', 'Olsson', 'de Pelsmaeker', 'Dorking', 'Smith', 'Stankovic', 'de Mulder', 'Naidenoff', 'Hosono', 'Connolly', 'Barber', 'Bishop', 'Levy', 'Haas', 'Mineff', 'Lewy', 'Hanna', 'Allison', 'Saalfeld', 'Baxter', 'Kelly', 'McCoy', 'Johnson', 'Keane', 'Williams', 'Allison', 'Fleming', 'Penasco y Castellana', 'Abelson', 'Francatelli', 'Hays', 'Ryerson', 'Lahtinen', 'Hendekovic', 'Hart', 'Nilsson', 'Kantor', 'Moraweck', 'Wick', 'Spedden', 'Dennis', 'Danoff', 'Slayter', 'Caldwell', 'Sage', 'Young', 'Nysveen', 'Ball', 'Goldsmith', 'Hippach', 'McCoy', 'Partner', 'Graham', 'Vander Planke', 'Frauenthal', 'Denkoff', 'Pears', 'Burns', 'Dahl', 'Blackwell', 'Navratil', 'Fortune', 'Collander', 'Sedgwick', 'Fox', 'Brown', 'Smith', 'Davison', 'Coutts', 'Dimic', 'Odahl', 'Williams-Lambert', 'Elias', 'Arnold-Franchi', 'Yousif', 'Vanden Steen', 'Bowerman', 'Funk', 'McGovern', 'Mockler', 'Skoog', 'del Carlo', 'Barbara', 'Asim', \"O'Brien\", 'Adahl', 'Warren', 'Moussa', 'Jermyn', 'Aubart', 'Harder', 'Wiklund', 'Beavan', 'Ringhini', 'Palsson', 'Meyer', 'Landergren', 'Widener', 'Betros', 'Gustafsson', 'Bidois', 'Nakid', 'Tikkanen', 'Holverson', 'Plotcharsky', 'Davies', 'Goodwin', 'Buss', 'Sadlier', 'Lehmann', 'Carter', 'Jansson', 'Gustafsson', 'Newell', 'Sandstrom', 'Johansson', 'Olsson', 'McKane', 'Pain', 'Trout', 'Niskanen', 'Adams', 'Jussila', 'Hakkarainen', 'Oreskovic', 'Gale', 'Widegren', 'Richards', 'Birkeland', 'Lefebre', 'Sdycoff', 'Hart', 'Minahan', 'Cunningham', 'Sundman', 'Meek', 'Drew', 'Silven', 'Matthews', 'Van Impe', 'Gheorgheff', 'Charters', 'Zimmerman', 'Danbom', 'Rosblom', 'Wiseman', 'Clarke', 'Phillips', 'Flynn', 'Pickard', 'Bjornstrom-Steffansson', 'Thorneycroft', 'Louch', 'Kallio', 'Silvey', 'Carter', 'Ford', 'Richards', 'Fortune', 'Kvillner', 'Hart', 'Hampe', 'Petterson', 'Reynaldo', 'Johannesen-Bratthammer', 'Dodge', 'Mellinger', 'Seward', 'Baclini', 'Peuchen', 'West', 'Hagland', 'Foreman', 'Goldenberg', 'Peduzzi', 'Jalsevac', 'Millet', 'Kenyon', 'Toomey', \"O'Connor\", 'Anderson', 'Morley', 'Gee', 'Milling', 'Maisner', 'Goncalves', 'Campbell', 'Smart', 'Scanlan', 'Baclini', 'Keefe', 'Cacic', 'West', 'Jerwan', 'Strandberg', 'Clifford', 'Renouf', 'Braund', 'Karlsson', 'Hirvonen', 'Goodwin', 'Frost', 'Rouse', 'Turkula', 'Bishop', 'Lefebre', 'Hoyt', 'Kent', 'Somerton', 'Coutts', 'Hagland', 'Windelov', 'Molson', 'Artagaveytia', 'Stanley', 'Yousseff', 'Eustis', 'Shellard', 'Allison', 'Svensson', 'Calic', 'Canavan', \"O'Sullivan\", 'Laitinen', 'Maioni', 'Penasco y Castellana', 'Quick', 'Bradley', 'Olsen', 'Lang', 'Daly', 'Webber', 'McGough', 'Rothschild', 'Coleff', 'Walker', 'Lemore', 'Ryan', 'Angle', 'Pavlovic', 'Perreault', 'Vovk', 'Lahoud', 'Hippach', 'Kassem', 'Farrell', 'Ridsdale', 'Farthing', 'Salonen', 'Hocking', 'Quick', 'Toufik', 'Elias', 'Peter', 'Cacic', 'Hart', 'Butt', 'LeRoy', 'Risien', 'Frolicher', 'Crosby', 'Andersson', 'Andersson', 'Beane', 'Douglas', 'Nicholson', 'Beane', 'Padro y Manent', 'Goldsmith', 'Davies', 'Thayer', 'Sharp', \"O'Brien\", 'Leeni', 'Ohman', 'Wright', 'Duff Gordon', 'Robbins', 'Taussig', 'de Messemaeker', 'Morrow', 'Sivic', 'Norman', 'Simmons', 'Meanwell', 'Davies', 'Stoytcheff', 'Palsson', 'Doharr', 'Jonsson', 'Harris', 'Appleton', 'Flynn', 'Kelly', 'Rush', 'Patchett', 'Garside', 'Silvey', 'Caram', 'Jussila', 'Christy', 'Thayer', 'Downton', 'Ross', 'Paulner', 'Taussig', 'Jarvis', 'Frolicher-Stehli', 'Gilinski', 'Murdlin', 'Rintamaki', 'Stephenson', 'Elsbury', 'Bourke', 'Chapman', 'Van Impe', 'Leitch', 'Johnson', 'Boulos', 'Duff Gordon', 'Jacobsohn', 'Slabenoff', 'Harrington', 'Torber', 'Homer', 'Lindell', 'Karaic', 'Daniel', 'Laroche', 'Shutes', 'Andersson', 'Jardin', 'Murphy', 'Horgan', 'Brocklebank', 'Herman', 'Danbom', 'Lobb', 'Becker', 'Gavey', 'Yasbeck', 'Kimball', 'Nakid', 'Hansen', 'Bowen', 'Sutton', 'Kirkland', 'Longley', 'Bostandyeff', \"O'Connell\", 'Barkworth', 'Lundahl', 'Stahelin-Maeglin', 'Parr', 'Skoog', 'Davis', 'Leinonen', 'Collyer', 'Panula', 'Thorneycroft', 'Jensen', 'Sagesser', 'Skoog', 'Foo', 'Baclini', 'Harper', 'Cor', 'Simonius-Blumer', 'Willey', 'Stanley', 'Mitkoff', 'Doling', 'Kalvik', \"O'Leary\", 'Hegarty', 'Hickman', 'Radeff', 'Bourke', 'Eitemiller', 'Newell', 'Frauenthal', 'Badt', 'Colley', 'Coleff', 'Lindqvist', 'Hickman', 'Butler', 'Rommetvedt', 'Cook', 'Taylor', 'Brown', 'Davidson', 'Mitchell', 'Wilhelms', 'Watson', 'Edvardsson', 'Sawyer', 'Turja', 'Goodwin', 'Cardeza', 'Peters', 'Hassab', 'Olsvigen', 'Goodwin', 'Brown', 'Laroche', 'Panula', 'Dakic', 'Fischer', 'Madill', 'Dick', 'Karun', 'Lam', 'Saad', 'Weir', 'Chapman', 'Kelly', 'Mullens', 'Thayer', 'Humblen', 'Astor', 'Silverthorne', 'Barbara', 'Gallagher', 'Hansen', 'Morley', 'Kelly', 'Calderhead', 'Cleaver', 'Moubarek', 'Mayne', 'Klaber', 'Taylor', 'Larsson', 'Greenberg', 'Soholt', 'Endres', 'Troutt', 'McEvoy', 'Johnson', 'Harper', 'Jensen', 'Gillespie', 'Hodges', 'Chambers', 'Oreskovic', 'Renouf', 'Mannion', 'Bryhl', 'Ilmakangas', 'Allen', 'Hassan', 'Knight', 'Berriman', 'Troupiansky', 'Williams', 'Ford', 'Lesurer', 'Ivanoff', 'Nankoff', 'Hawksford', 'Cavendish', 'Ryerson', 'McNamee', 'Stranden', 'Crosby', 'Abbott', 'Sinkkonen', 'Marvin', 'Connaghton', 'Wells', 'Moor', 'Vande Velde', 'Jonkoff', 'Herman', 'Hamalainen', 'Carlsson', 'Bailey', 'Theobald', 'Rothes', 'Garfirth', 'Nirva', 'Barah', 'Carter', 'Eklund', 'Hogeboom', 'Brewe', 'Mangan', 'Moran', 'Gronnestad', 'Lievens', 'Jensen', 'Mack', 'Elias', 'Hocking', 'Myhrman', 'Tobin', 'Emanuel', 'Kilgannon', 'Robert', 'Ayoub', 'Dick', 'Long', 'Johnston', 'Ali', 'Harmer', 'Sjoblom', 'Rice', 'Dean', 'Guggenheim', 'Keane', 'Gaskell', 'Sage', 'Hoyt', 'Dantcheff', 'Otter', 'Leader', 'Osman', 'Ibrahim Shawah', 'Van Impe', 'Ponesell', 'Collyer', 'Carter', 'Thomas', 'Hedman', 'Johansson', 'Andrews', 'Pettersson', 'Meyer', 'Chambers', 'Alexander', 'Lester', 'Slemen', 'Andersson', 'Tomlin', 'Fry', 'Heininen', 'Mallet', 'Holm', 'Skoog', 'Hays', 'Lulic', 'Reuchlin', 'Moor', 'Panula', 'Flynn', 'Lam', 'Mallet', 'McCormack', 'Stone', 'Yasbeck', 'Richards', 'Saad', 'Augustsson', 'Allum', 'Compton', 'Pasic', 'Sirota', 'Chip', 'Marechal', 'Alhomaki', 'Mudd', 'Serepeca', 'Lemberopolous', 'Culumovic', 'Abbing', 'Sage', 'Markoff', 'Harper', 'Goldenberg', 'Andersson', 'Svensson', 'Boulos', 'Lines', 'Carter', 'Aks', 'Wick', 'Daly', 'Baclini', 'Razi', 'Hansen', 'Giles', 'Swift', 'Sage', 'Gill', 'Bystrom', 'Duran y More', 'Roebling', 'van Melkebeke', 'Johnson', 'Balkic', 'Beckwith', 'Carlsson', 'Vander Cruyssen', 'Abelson', 'Najib', 'Gustafsson', 'Petroff', 'Laleff', 'Potter', 'Shelley', 'Markun', 'Dahlberg', 'Banfield', 'Sutehall', 'Rice', 'Montvila', 'Graham', 'Johnston', 'Behr', 'Dooley']\n"
          ],
          "name": "stdout"
        },
        {
          "output_type": "execute_result",
          "data": {
            "text/plain": [
              "891"
            ]
          },
          "metadata": {
            "tags": []
          },
          "execution_count": 18
        }
      ]
    },
    {
      "cell_type": "code",
      "metadata": {
        "id": "QfFeroDVsSux",
        "outputId": "ea06ee6f-b2dd-495c-e48d-6dd44b9b3653",
        "colab": {
          "base_uri": "https://localhost:8080/",
          "height": 221
        }
      },
      "source": [
        "indexS = np.arange(len(listS))\n",
        "serieS = pd.Series(data=listS,index=indexS)\n",
        "a=serieS.value_counts()\n",
        "a"
      ],
      "execution_count": null,
      "outputs": [
        {
          "output_type": "execute_result",
          "data": {
            "text/plain": [
              "Andersson        9\n",
              "Sage             7\n",
              "Johnson          6\n",
              "Skoog            6\n",
              "Goodwin          6\n",
              "                ..\n",
              "Moen             1\n",
              "Lesurer          1\n",
              "Kilgannon        1\n",
              "Natsch           1\n",
              "Lemberopolous    1\n",
              "Length: 667, dtype: int64"
            ]
          },
          "metadata": {
            "tags": []
          },
          "execution_count": 19
        }
      ]
    },
    {
      "cell_type": "code",
      "metadata": {
        "id": "ZkKGg4d2seD5",
        "outputId": "b67325c2-208e-4a40-dc31-04dd70231c38",
        "colab": {
          "base_uri": "https://localhost:8080/",
          "height": 297
        }
      },
      "source": [
        "#มีนามสกุลทั้งหมด 667 นามสกุล และนามสกุลซ้ำกันที่มากที่สุดคือ Andersonมี  9 คน มีความถี่ 1 หาจำนวนความถี่ของจำนวนนามสกุลที่ซ้ำเท่า ๆ กัน\n",
        "a.groupby(a).describe()"
      ],
      "execution_count": null,
      "outputs": [
        {
          "output_type": "execute_result",
          "data": {
            "text/html": [
              "<div>\n",
              "<style scoped>\n",
              "    .dataframe tbody tr th:only-of-type {\n",
              "        vertical-align: middle;\n",
              "    }\n",
              "\n",
              "    .dataframe tbody tr th {\n",
              "        vertical-align: top;\n",
              "    }\n",
              "\n",
              "    .dataframe thead th {\n",
              "        text-align: right;\n",
              "    }\n",
              "</style>\n",
              "<table border=\"1\" class=\"dataframe\">\n",
              "  <thead>\n",
              "    <tr style=\"text-align: right;\">\n",
              "      <th></th>\n",
              "      <th>count</th>\n",
              "      <th>mean</th>\n",
              "      <th>std</th>\n",
              "      <th>min</th>\n",
              "      <th>25%</th>\n",
              "      <th>50%</th>\n",
              "      <th>75%</th>\n",
              "      <th>max</th>\n",
              "    </tr>\n",
              "  </thead>\n",
              "  <tbody>\n",
              "    <tr>\n",
              "      <th>1</th>\n",
              "      <td>534.0</td>\n",
              "      <td>1.0</td>\n",
              "      <td>0.0</td>\n",
              "      <td>1.0</td>\n",
              "      <td>1.0</td>\n",
              "      <td>1.0</td>\n",
              "      <td>1.0</td>\n",
              "      <td>1.0</td>\n",
              "    </tr>\n",
              "    <tr>\n",
              "      <th>2</th>\n",
              "      <td>83.0</td>\n",
              "      <td>2.0</td>\n",
              "      <td>0.0</td>\n",
              "      <td>2.0</td>\n",
              "      <td>2.0</td>\n",
              "      <td>2.0</td>\n",
              "      <td>2.0</td>\n",
              "      <td>2.0</td>\n",
              "    </tr>\n",
              "    <tr>\n",
              "      <th>3</th>\n",
              "      <td>28.0</td>\n",
              "      <td>3.0</td>\n",
              "      <td>0.0</td>\n",
              "      <td>3.0</td>\n",
              "      <td>3.0</td>\n",
              "      <td>3.0</td>\n",
              "      <td>3.0</td>\n",
              "      <td>3.0</td>\n",
              "    </tr>\n",
              "    <tr>\n",
              "      <th>4</th>\n",
              "      <td>14.0</td>\n",
              "      <td>4.0</td>\n",
              "      <td>0.0</td>\n",
              "      <td>4.0</td>\n",
              "      <td>4.0</td>\n",
              "      <td>4.0</td>\n",
              "      <td>4.0</td>\n",
              "      <td>4.0</td>\n",
              "    </tr>\n",
              "    <tr>\n",
              "      <th>5</th>\n",
              "      <td>1.0</td>\n",
              "      <td>5.0</td>\n",
              "      <td>NaN</td>\n",
              "      <td>5.0</td>\n",
              "      <td>5.0</td>\n",
              "      <td>5.0</td>\n",
              "      <td>5.0</td>\n",
              "      <td>5.0</td>\n",
              "    </tr>\n",
              "    <tr>\n",
              "      <th>6</th>\n",
              "      <td>5.0</td>\n",
              "      <td>6.0</td>\n",
              "      <td>0.0</td>\n",
              "      <td>6.0</td>\n",
              "      <td>6.0</td>\n",
              "      <td>6.0</td>\n",
              "      <td>6.0</td>\n",
              "      <td>6.0</td>\n",
              "    </tr>\n",
              "    <tr>\n",
              "      <th>7</th>\n",
              "      <td>1.0</td>\n",
              "      <td>7.0</td>\n",
              "      <td>NaN</td>\n",
              "      <td>7.0</td>\n",
              "      <td>7.0</td>\n",
              "      <td>7.0</td>\n",
              "      <td>7.0</td>\n",
              "      <td>7.0</td>\n",
              "    </tr>\n",
              "    <tr>\n",
              "      <th>9</th>\n",
              "      <td>1.0</td>\n",
              "      <td>9.0</td>\n",
              "      <td>NaN</td>\n",
              "      <td>9.0</td>\n",
              "      <td>9.0</td>\n",
              "      <td>9.0</td>\n",
              "      <td>9.0</td>\n",
              "      <td>9.0</td>\n",
              "    </tr>\n",
              "  </tbody>\n",
              "</table>\n",
              "</div>"
            ],
            "text/plain": [
              "   count  mean  std  min  25%  50%  75%  max\n",
              "1  534.0   1.0  0.0  1.0  1.0  1.0  1.0  1.0\n",
              "2   83.0   2.0  0.0  2.0  2.0  2.0  2.0  2.0\n",
              "3   28.0   3.0  0.0  3.0  3.0  3.0  3.0  3.0\n",
              "4   14.0   4.0  0.0  4.0  4.0  4.0  4.0  4.0\n",
              "5    1.0   5.0  NaN  5.0  5.0  5.0  5.0  5.0\n",
              "6    5.0   6.0  0.0  6.0  6.0  6.0  6.0  6.0\n",
              "7    1.0   7.0  NaN  7.0  7.0  7.0  7.0  7.0\n",
              "9    1.0   9.0  NaN  9.0  9.0  9.0  9.0  9.0"
            ]
          },
          "metadata": {
            "tags": []
          },
          "execution_count": 20
        }
      ]
    },
    {
      "cell_type": "code",
      "metadata": {
        "id": "mWFjS6-YsosL",
        "outputId": "38bab5b4-eb27-4a30-b1b7-1659e039bf6c",
        "colab": {
          "base_uri": "https://localhost:8080/",
          "height": 336
        }
      },
      "source": [
        "y = np.array([534,83,28,14,1,5,1,0,1])\n",
        "x = np.arange(1,10)\n",
        "plt.figure(figsize=[5,5])\n",
        "plt.bar(x,y)\n",
        "plt.title('num of Duplicate surnames vs num of passengers')\n",
        "plt.show()"
      ],
      "execution_count": null,
      "outputs": [
        {
          "output_type": "display_data",
          "data": {
            "image/png": "[encoded data removed]",
            "text/plain": [
              "<Figure size 360x360 with 1 Axes>"
            ]
          },
          "metadata": {
            "tags": []
          }
        }
      ]
    },
    {
      "cell_type": "markdown",
      "metadata": {
        "id": "1bQOsJz5swOS"
      },
      "source": [
        "16) (Optional) สร้างหลายกราฟในรูปเดียว โดยมีสองคอลัมน์ คอลัมน์แรกมีสามแถว คอลัมน์สองมีสองแถว พร้อมใส่ชื่อกราฟ รายละเอียดแต่ละแกน โดยสมการแต่ละกราฟสามารถคิดเองได้โดย"
      ]
    },
    {
      "cell_type": "code",
      "metadata": {
        "id": "qvuZqr5Qs1UY",
        "outputId": "bc38bcac-fe34-45e2-8ef1-817237c05c51",
        "colab": {
          "base_uri": "https://localhost:8080/",
          "height": 638
        }
      },
      "source": [
        "#ใช้ข้อมูลจากไฟล์ titanic และไม่ต้องซ้ำกัน\n",
        "\n",
        "fig=plt.figure()\n",
        "\n",
        "x1=df['Age']\n",
        "y1=df['Fare']\n",
        "fig1 = fig.add_axes([0.6,0.2,0.4,0.4])\n",
        "fig1.scatter(x1,y1)\n",
        "fig1.set(xlabel='x-fig1', ylabel='y-fig1')\n",
        "fig1.set_title('fig1')\n",
        "\n",
        "y2 = df['Age']/df['Fare']\n",
        "x2 = df['Age']\n",
        "fig2 = fig.add_axes([1.2,0.5,0.4,0.4])\n",
        "fig2.bar(x2,y2)\n",
        "fig2.set(xlabel='x-fig2', ylabel='y-fig2')\n",
        "fig2.set_title('fig2')\n",
        "\n",
        "y3 = df['Age']\n",
        "x3 = df['Age']/df['Fare']\n",
        "fig3 = fig.add_axes([0.6,0.8,0.4,0.4])\n",
        "fig3.bar(x3,y3)\n",
        "fig3.set(xlabel='x-fig3', ylabel='y-fig3')\n",
        "fig3.set_title('fig3')\n",
        "\n",
        "y4=df['Age']\n",
        "x4=df['Fare']\n",
        "fig4 = fig.add_axes([1.2,1.5,0.4,0.4])\n",
        "fig4.scatter(x4,y4)\n",
        "fig4.set(xlabel='x-fig4', ylabel='y-fig4')\n",
        "fig4.set_title('fig4')\n",
        "\n",
        "x5=df['Age']\n",
        "y5=x5**2\n",
        "fig5 = fig.add_axes([0.6,1.5,0.4,0.4])\n",
        "fig5.scatter(x5,y5)\n",
        "fig5.set(xlabel='x-fig5', ylabel='y-fig5')\n",
        "fig5.set_title('fig5')"
      ],
      "execution_count": null,
      "outputs": [
        {
          "output_type": "stream",
          "text": [
            "/usr/local/lib/python3.6/dist-packages/matplotlib/transforms.py:417: RuntimeWarning: invalid value encountered in double_scalars\n",
            "  return (x0, y0, x1 - x0, y1 - y0)\n"
          ],
          "name": "stderr"
        },
        {
          "output_type": "execute_result",
          "data": {
            "text/plain": [
              "Text(0.5, 1.0, 'fig5')"
            ]
          },
          "metadata": {
            "tags": []
          },
          "execution_count": 22
        },
        {
          "output_type": "display_data",
          "data": {
            "image/png": "[encoded data removed]",
            "text/plain": [
              "<Figure size 432x288 with 5 Axes>"
            ]
          },
          "metadata": {
            "tags": []
          }
        }
      ]
    }
  ]
}