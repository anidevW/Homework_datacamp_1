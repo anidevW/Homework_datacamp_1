{
  "nbformat": 4,
  "nbformat_minor": 0,
  "metadata": {
    "colab": {
      "name": "day2_quiz.ipynb",
      "provenance": []
    },
    "kernelspec": {
      "name": "python3",
      "display_name": "Python 3"
    }
  },
  "cells": [
    {
      "cell_type": "code",
      "metadata": {
        "id": "0A41BlAuReGE",
        "colab_type": "code",
        "outputId": "54dce2bb-b9ad-4aa0-d76c-5a84dbdd7075",
        "colab": {
          "base_uri": "https://localhost:8080/",
          "height": 51
        }
      },
      "source": [
        "#1\n",
        "a = int(input('พิมพ์เลข:'))\n",
        "if(a == 0):\n",
        "  print('เลขศูนย์')\n",
        "elif(a % 2 == 0):\n",
        "  print('เลขคู่')\n",
        "else:\n",
        "  print('เลขคี่')"
      ],
      "execution_count": 0,
      "outputs": [
        {
          "output_type": "stream",
          "text": [
            "พิมพ์ตัวเลข:5555\n",
            "เลขคี่\n"
          ],
          "name": "stdout"
        }
      ]
    },
    {
      "cell_type": "code",
      "metadata": {
        "id": "Mf2CT_s2SkFp",
        "colab_type": "code",
        "outputId": "7894de1e-d151-45dd-ce1d-af79ba27ebba",
        "colab": {
          "base_uri": "https://localhost:8080/",
          "height": 68
        }
      },
      "source": [
        "2#\n",
        "a = float(input('พิมพ์เลขตัวตั้ง:'))\n",
        "b = float(input('พิมพ์เลขตัวหาร:'))\n",
        "if (b == 0):\n",
        "  print('เลขตัวหารห้ามเป็นศูนย์ พิมพ์เลขตัวหารอีกครั้ง')\n",
        "  b = float(input('พิมพ์เลขตัวหาร:'))\n",
        "c = a/b\n",
        "print(c)"
      ],
      "execution_count": 0,
      "outputs": [
        {
          "output_type": "stream",
          "text": [
            "พิมพ์เลขตัวตั้ง:5\n",
            "พิมพ์เลขตัวหาร:-6\n",
            "-0.8333333333333334\n"
          ],
          "name": "stdout"
        }
      ]
    },
    {
      "cell_type": "code",
      "metadata": {
        "id": "925LPnPdXq2F",
        "colab_type": "code",
        "outputId": "17587cae-3005-49cd-fc3c-ce7c5cfa8570",
        "colab": {
          "base_uri": "https://localhost:8080/",
          "height": 119
        }
      },
      "source": [
        "#3\n",
        "count = 0\n",
        "number = 1\n",
        "total = 0.0\n",
        "while number != 0:\n",
        "  number = float(input('พิมพ์ตัวเลข : '))\n",
        "  total = total + number\n",
        "  if number != 0:\n",
        "    count = count + 1\n",
        "avg = total / count\n",
        "print('total คือ',total)\n",
        "print('count คือ',count)\n",
        "print('ค่าเฉลี่ย คือ',avg)"
      ],
      "execution_count": 0,
      "outputs": [
        {
          "output_type": "stream",
          "text": [
            "พิมพ์ตัวเลข : 1\n",
            "พิมพ์ตัวเลข : 2\n",
            "พิมพ์ตัวเลข : 0\n",
            "total คือ 3.0\n",
            "count คือ 2\n",
            "ค่าเฉลี่ย คือ 1.5\n"
          ],
          "name": "stdout"
        }
      ]
    },
    {
      "cell_type": "code",
      "metadata": {
        "id": "oZSoNFdoe-af",
        "colab_type": "code",
        "outputId": "4b22b9b0-d99b-4a9a-dd0d-d62de189c6cd",
        "colab": {
          "base_uri": "https://localhost:8080/",
          "height": 51
        }
      },
      "source": [
        "#4\n",
        "a = int(input('พิมพ์เลข:'))\n",
        "if(a % 7 == 0):\n",
        "  print('หาร 7 ลงตัว')\n",
        "else:\n",
        "  print('หาร 7 ไม่ลงตัว')"
      ],
      "execution_count": 0,
      "outputs": [
        {
          "output_type": "stream",
          "text": [
            "พิมพ์เลข:21\n",
            "หาร 7 ลงตัว\n"
          ],
          "name": "stdout"
        }
      ]
    },
    {
      "cell_type": "code",
      "metadata": {
        "id": "gDlrzn6Ze-wM",
        "colab_type": "code",
        "outputId": "610af66d-6666-46ee-df5c-590dfadf069f",
        "colab": {
          "base_uri": "https://localhost:8080/",
          "height": 85
        }
      },
      "source": [
        "#5\n",
        "a = int(input('พิมพ์ด้านที่หนึ่งของรูปสามเหลี่ยม:'))\n",
        "b = int(input('พิมพ์ด้านที่สองของรูปสามเหลี่ยม:'))\n",
        "c = int(input('พิมพ์ด้านที่สามของรูปสามเหลี่ยม:'))\n",
        "if(a ** 2 == b ** 2 + c ** 2 or b ** 2 == a ** 2 + c ** 2 or c ** 2 == a ** 2 + b ** 2 ):\n",
        "  print('สร้างสามเหลี่ยมมุมฉากได้')\n",
        "else:\n",
        "  print('สร้างสามเหลี่ยมมุมฉากไม่ได้')"
      ],
      "execution_count": 0,
      "outputs": [
        {
          "output_type": "stream",
          "text": [
            "พิมพ์ด้านที่หนึ่งของรูปสามเหลี่ยม:1\n",
            "พิมพ์ด้านที่สองของรูปสามเหลี่ยม:1\n",
            "พิมพ์ด้านที่สามของรูปสามเหลี่ยม:5\n",
            "สร้างสามเหลี่ยมมุมฉากไม่ได้\n"
          ],
          "name": "stdout"
        }
      ]
    },
    {
      "cell_type": "code",
      "metadata": {
        "id": "cW7pjLMUe-4C",
        "colab_type": "code",
        "outputId": "afae1503-d02f-4963-93f9-08d9cbaa20ef",
        "colab": {
          "base_uri": "https://localhost:8080/",
          "height": 85
        }
      },
      "source": [
        "#6\n",
        "a = int(input('พิมพ์ด้านที่หนึ่งของรูปสามเหลี่ยม:'))\n",
        "b = int(input('พิมพ์ด้านที่สองของรูปสามเหลี่ยม:'))\n",
        "c = int(input('พิมพ์ด้านที่สามของรูปสามเหลี่ยม:'))\n",
        "if (a + b > c and a + c > b and b + c > a):\n",
        "  if(a ** 2 == b ** 2 + c ** 2 or b ** 2 == a ** 2 + c ** 2 or c ** 2 == a ** 2 + b ** 2 ):\n",
        "    print('สร้างสามเหลี่ยมมุมฉากได้')\n",
        "    if(a ** 2 > b ** 2 + c ** 2 or b ** 2 > a ** 2 + c ** 2 or c ** 2 > a ** 2 + b ** 2 ):\n",
        "      print('สร้างสามเหลี่ยมมุมป้านได้')\n",
        "      if(a ** 2 < b ** 2 + c ** 2 or b ** 2 < a ** 2 + c ** 2 or c ** 2 < a ** 2 + b ** 2 ):\n",
        "        print('สร้างสามเหลี่ยมมุมแหลมได้')\n",
        "else:\n",
        "  print('ไม่สามารถสร้างสามเหลี่ยมได้ ผลบวกของสองด้าน ต้องมากกว่าอีกด้านที่เหลือ')"
      ],
      "execution_count": 0,
      "outputs": [
        {
          "output_type": "stream",
          "text": [
            "พิมพ์ด้านที่หนึ่งของรูปสามเหลี่ยม:1\n",
            "พิมพ์ด้านที่สองของรูปสามเหลี่ยม:1\n",
            "พิมพ์ด้านที่สามของรูปสามเหลี่ยม:2\n",
            "ไม่สามารถสร้างสามเหลี่ยมได้ ผลบวกของสองด้าน ต้องมากกว่าด้านที่เหลือ\n"
          ],
          "name": "stdout"
        }
      ]
    },
    {
      "cell_type": "code",
      "metadata": {
        "id": "XkbD8bvIe--U",
        "colab_type": "code",
        "outputId": "c23fa107-1ce7-4dc4-eed1-26d399713220",
        "colab": {
          "base_uri": "https://localhost:8080/",
          "height": 85
        }
      },
      "source": [
        "#7\n",
        "i = 1\n",
        "num = []\n",
        "while i <=3:\n",
        "  n = int(input('ค่าอาหารมื้อที่ %d (1000 - 5000) = ' %i))\n",
        "  num.append(n)\n",
        "  i = i + 1\n",
        "total = sum(num)\n",
        "net = total\n",
        "if(total > 6000):\n",
        "  net = 0.85 * total\n",
        "if(total > 12000):\n",
        "  net = 0.75 * total\n",
        "print('ค่าอาหารสามมื้อรวมกัน หลังคิดส่วนลด', net,'บาท')"
      ],
      "execution_count": 0,
      "outputs": [
        {
          "output_type": "stream",
          "text": [
            "ค่าอาหารมื้อที่ 1 (1000 - 5000) = 455\n",
            "ค่าอาหารมื้อที่ 2 (1000 - 5000) = 222\n",
            "ค่าอาหารมื้อที่ 3 (1000 - 5000) = 5555\n",
            "ค่าอาหารสามมื้อรวมกัน คือ 5297.2 บาท\n"
          ],
          "name": "stdout"
        }
      ]
    },
    {
      "cell_type": "code",
      "metadata": {
        "id": "GbrdNmmde_By",
        "colab_type": "code",
        "outputId": "63fabf50-28b4-42cf-ec52-96a542324b42",
        "colab": {
          "base_uri": "https://localhost:8080/",
          "height": 102
        }
      },
      "source": [
        "#8\n",
        "i = 1\n",
        "num = []\n",
        "while i <=4:\n",
        "  n = int(input('ค่าอาหารมื้อที่ %d (1000 - 5000) = ' %i))\n",
        "  num.append(n)\n",
        "  i = i + 1\n",
        "total = sum(num) - num[3]\n",
        "net = num[3]\n",
        "if(total > 6000):\n",
        "  net = 0.85 * num[3]\n",
        "if(total > 12000):\n",
        "  net = 0.75 * num[3]\n",
        "#print('ตัวเลขที่ป้อน คือ ', num)\n",
        "print('ค่าอาหารมื้อสี่ หลังคิดส่วนลด', net, 'บาท')"
      ],
      "execution_count": 0,
      "outputs": [
        {
          "output_type": "stream",
          "text": [
            "ค่าอาหารมื้อที่ 1 (1000 - 5000) = 2\n",
            "ค่าอาหารมื้อที่ 2 (1000 - 5000) = 2\n",
            "ค่าอาหารมื้อที่ 3 (1000 - 5000) = 2\n",
            "ค่าอาหารมื้อที่ 4 (1000 - 5000) = 2\n",
            "ค่าอาหารมื้อสี่ หลังคิดส่วนลด 2 บาท\n"
          ],
          "name": "stdout"
        }
      ]
    },
    {
      "cell_type": "code",
      "metadata": {
        "id": "6qPJ3WjUe_GK",
        "colab_type": "code",
        "outputId": "4948a443-ad97-44f5-8ac8-1677f2c1a343",
        "colab": {
          "base_uri": "https://localhost:8080/",
          "height": 102
        }
      },
      "source": [
        "#9\n",
        "i = 1\n",
        "num = []\n",
        "while i <=4:\n",
        "  n = int(input('ค่าอาหารมื้อที่ %d (1000 - 5000) = ' %i))\n",
        "  if(n > 1000 and n < 5000):\n",
        "    num.append(n)\n",
        "    i = i + 1\n",
        "total = sum(num) - num[3]\n",
        "net = num[3]\n",
        "if(total > 4000):\n",
        "  net = 0.85 * num[3]\n",
        "if(total > 9000):\n",
        "  net = 0.7 * num[3]\n",
        "#print('ตัวเลขที่ป้อน คือ ', num)\n",
        "print('ค่าอาหารมื้อสี่ หลังคิดส่วนลด', net, 'บาท')"
      ],
      "execution_count": 0,
      "outputs": [
        {
          "output_type": "stream",
          "text": [
            "ค่าอาหารมื้อที่ 1 (1000 - 5000) = 2000\n",
            "ค่าอาหารมื้อที่ 2 (1000 - 5000) = 4000\n",
            "ค่าอาหารมื้อที่ 3 (1000 - 5000) = 4000\n",
            "ค่าอาหารมื้อที่ 4 (1000 - 5000) = 1001\n",
            "ค่าอาหารมื้อสี่ หลังคิดส่วนลด 700.6999999999999 บาท\n"
          ],
          "name": "stdout"
        }
      ]
    },
    {
      "cell_type": "code",
      "metadata": {
        "id": "LATU814ee_JS",
        "colab_type": "code",
        "outputId": "1fa3f2e4-7516-49e1-9ea9-955777c00d10",
        "colab": {
          "base_uri": "https://localhost:8080/",
          "height": 119
        }
      },
      "source": [
        "#10\n",
        "i = 1\n",
        "num = []\n",
        "while i <=4:\n",
        "  n = int(input('ค่าอาหารมื้อที่ %d (1000 - 5000) = ' %i))\n",
        "  if(n > 1000 and n < 5000):\n",
        "    num.append(n)\n",
        "    i = i + 1\n",
        "total = sum(num) - num[3]\n",
        "cc = input('มีบัตรเครดิต กด y หากไม่มีกด n :')\n",
        "net = num[3]\n",
        "if(total > 4000):\n",
        "  if(cc == 'y'):\n",
        "    net = 0.80 * num[3]\n",
        "  else:\n",
        "    net = 0.85 * num[3]\n",
        "if(total > 9000):\n",
        "  if(cc == 'y'):\n",
        "    net = 0.70 * num[3] \n",
        "  else:\n",
        "    net = 0.75 * num[3]  \n",
        "#print('ตัวเลขที่ป้อน คือ ', num)\n",
        "print('ค่าอาหารมื้อสี่ หลังคิดส่วนลด', net, 'บาท')"
      ],
      "execution_count": 0,
      "outputs": [
        {
          "output_type": "stream",
          "text": [
            "ค่าอาหารมื้อที่ 1 (1000 - 5000) = 4000\n",
            "ค่าอาหารมื้อที่ 2 (1000 - 5000) = 4000\n",
            "ค่าอาหารมื้อที่ 3 (1000 - 5000) = 4000\n",
            "ค่าอาหารมื้อที่ 4 (1000 - 5000) = 1001\n",
            "มีบัตรเครดิต กด y หากไม่มีกด n :n\n",
            "ค่าอาหารมื้อสี่ หลังคิดส่วนลด 750.75 บาท\n"
          ],
          "name": "stdout"
        }
      ]
    },
    {
      "cell_type": "code",
      "metadata": {
        "id": "9suM7JMYe_Mi",
        "colab_type": "code",
        "outputId": "f3c9a331-69e4-4a33-9a7c-730fcad100f5",
        "colab": {
          "base_uri": "https://localhost:8080/",
          "height": 51
        }
      },
      "source": [
        "#11\n",
        "msg =''\n",
        "while(len(msg) < 7):\n",
        "  msg = input('พิมพ์ข้อความอย่างน้อย 7 ตัวอักษร :')\n",
        "print('สลับตัวอักษรตัวพิมพ์เล็ก และพิมพ์ใหญ่ :', msg.swapcase())"
      ],
      "execution_count": 0,
      "outputs": [
        {
          "output_type": "stream",
          "text": [
            "พิมพ์ข้อความอย่างน้อย 7 ตัวอักษร :dghjkJHK\n",
            "สลับตัวอักษรตัวพิมพ์เล็ก และพิมพ์ใหญ่ : DGHJKjhk\n"
          ],
          "name": "stdout"
        }
      ]
    },
    {
      "cell_type": "code",
      "metadata": {
        "id": "KGXagcNae_Pr",
        "colab_type": "code",
        "outputId": "f29d9f68-cd7f-42ee-a166-f2a223fa63d7",
        "colab": {
          "base_uri": "https://localhost:8080/",
          "height": 153
        }
      },
      "source": [
        "#12\n",
        "str2 = []\n",
        "str3 = []\n",
        "for i in range(1,5):\n",
        "  str1 = input('พิมพ์ข้อความที่ %d : ' %i)\n",
        "  str2.append(str1)\n",
        "str3 = sorted(str2, key=len)\n",
        "#print(str3)\n",
        "for j in range(0,4):\n",
        "  print(str3[j])"
      ],
      "execution_count": 0,
      "outputs": [
        {
          "output_type": "stream",
          "text": [
            "พิมพ์ข้อความที่ 1 : fhh\n",
            "พิมพ์ข้อความที่ 2 : u\n",
            "พิมพ์ข้อความที่ 3 : yuyuyiii\n",
            "พิมพ์ข้อความที่ 4 : hjhjhjhkjhkjhkjhkjhkj\n",
            "u\n",
            "fhh\n",
            "yuyuyiii\n",
            "hjhjhjhkjhkjhkjhkjhkj\n"
          ],
          "name": "stdout"
        }
      ]
    },
    {
      "cell_type": "code",
      "metadata": {
        "id": "6BSbbS8Fe_Sr",
        "colab_type": "code",
        "outputId": "f18b1db0-a710-43d8-f254-910e0c9bfcbb",
        "colab": {
          "base_uri": "https://localhost:8080/",
          "height": 68
        }
      },
      "source": [
        "#13\n",
        "hr = int(input('จำนวนชั่วโมง (0-60) = '))\n",
        "sec = int(input('จำนวนนาที (0-60) = '))\n",
        "total1 = 150 * hr + 2 * sec\n",
        "print(total1)"
      ],
      "execution_count": 0,
      "outputs": [
        {
          "output_type": "stream",
          "text": [
            "จำนวนชั่วโมง (0-60) = 0\n",
            "จำนวนนาที (0-60) = 55\n",
            "110\n"
          ],
          "name": "stdout"
        }
      ]
    },
    {
      "cell_type": "code",
      "metadata": {
        "id": "p0h6feHAe_ZS",
        "colab_type": "code",
        "outputId": "9f51d02a-7f6a-4830-ca1b-5713a4b9020f",
        "colab": {
          "base_uri": "https://localhost:8080/",
          "height": 68
        }
      },
      "source": [
        "#14\n",
        "hr = int(input('จำนวนชั่วโมง (0-60) = '))\n",
        "sec = int(input('จำนวนนาที (0-60) = '))\n",
        "if(sec > 15):\n",
        "  hr = hr + 1\n",
        "total1 = 300 * (hr - 1)\n",
        "if(total1 <= 0):\n",
        "  total1 = 0\n",
        "print('ค่าจอดรถ', total1 , 'บาท')\n"
      ],
      "execution_count": 0,
      "outputs": [
        {
          "output_type": "stream",
          "text": [
            "จำนวนชั่วโมง (0-60) = 5\n",
            "จำนวนนาที (0-60) = 55\n",
            "ค่าจอดรถ 1500 บาท\n"
          ],
          "name": "stdout"
        }
      ]
    },
    {
      "cell_type": "code",
      "metadata": {
        "id": "unWqPBCbe_dr",
        "colab_type": "code",
        "outputId": "b0904bc9-89c3-47e7-da3f-c48ffc3a640c",
        "colab": {
          "base_uri": "https://localhost:8080/",
          "height": 68
        }
      },
      "source": [
        "#15\n",
        "head = int(input('ผลรวมหัวสัตว์ : '))\n",
        "#print(head)\n",
        "leg = int(input('ผลรวมขาสัตว์ : '))\n",
        "#print(leg)\n",
        "twoLeg = ((head * 4) - leg) / 2\n",
        "#print(twoLeg)\n",
        "fourLeg = head - twoLeg\n",
        "#print(fourLeg)\n",
        "#print('สัตว์สองขามี', twoLeg , 'ตัว')\n",
        "#print('สัตว์สี่ขามี', fourLeg , 'ตัว')\n",
        "tax = (150 * twoLeg) + (220 * fourLeg)\n",
        "print('ภาษี', tax , 'บาท')"
      ],
      "execution_count": 0,
      "outputs": [
        {
          "output_type": "stream",
          "text": [
            "ผลรวมหัวสัตว์ : 8\n",
            "ผลรวมขาสัตว์ : 20\n",
            "ภาษี 1340.0 บาท\n"
          ],
          "name": "stdout"
        }
      ]
    },
    {
      "cell_type": "code",
      "metadata": {
        "id": "PDWFhUtUe_gz",
        "colab_type": "code",
        "colab": {}
      },
      "source": [
        ""
      ],
      "execution_count": 0,
      "outputs": []
    },
    {
      "cell_type": "code",
      "metadata": {
        "id": "77lnYYife_j1",
        "colab_type": "code",
        "colab": {}
      },
      "source": [
        ""
      ],
      "execution_count": 0,
      "outputs": []
    },
    {
      "cell_type": "code",
      "metadata": {
        "id": "tZxDrMPIe_mt",
        "colab_type": "code",
        "colab": {}
      },
      "source": [
        ""
      ],
      "execution_count": 0,
      "outputs": []
    },
    {
      "cell_type": "code",
      "metadata": {
        "id": "IZ2Ggj6be_pw",
        "colab_type": "code",
        "colab": {}
      },
      "source": [
        ""
      ],
      "execution_count": 0,
      "outputs": []
    },
    {
      "cell_type": "code",
      "metadata": {
        "id": "R0ZCYTj8e_sr",
        "colab_type": "code",
        "colab": {}
      },
      "source": [
        ""
      ],
      "execution_count": 0,
      "outputs": []
    },
    {
      "cell_type": "code",
      "metadata": {
        "id": "tStQsdGy6MEh",
        "colab_type": "code",
        "outputId": "b3acd8a3-3876-4731-cb03-507ee23b049b",
        "colab": {
          "base_uri": "https://localhost:8080/",
          "height": 119
        }
      },
      "source": [
        "count = 0 # counter\n",
        "while(count <5):\n",
        "  print('นับเลข:', count)\n",
        "  # count = count + 1\n",
        "  count += 1\n",
        "print(\"เสร็จแล้ว\")"
      ],
      "execution_count": 0,
      "outputs": [
        {
          "output_type": "stream",
          "text": [
            "นับเลข: 0\n",
            "นับเลข: 1\n",
            "นับเลข: 2\n",
            "นับเลข: 3\n",
            "นับเลข: 4\n",
            "เสร็จแล้ว\n"
          ],
          "name": "stdout"
        }
      ]
    },
    {
      "cell_type": "code",
      "metadata": {
        "id": "KQv-GEHa639n",
        "colab_type": "code",
        "outputId": "a04fdfde-dbbf-4dcb-8ec9-0bd05a8052ba",
        "colab": {
          "base_uri": "https://localhost:8080/",
          "height": 34
        }
      },
      "source": [
        "count = 0 # counter\n",
        "while count != 99:\n",
        "  print('นับเลข:', count)\n",
        "  count = int(input('input a number:'))\n",
        "\n",
        "print(\"ออกแล้ว\")"
      ],
      "execution_count": 0,
      "outputs": [
        {
          "output_type": "stream",
          "text": [
            "ออกแล้ว\n"
          ],
          "name": "stdout"
        }
      ]
    },
    {
      "cell_type": "code",
      "metadata": {
        "id": "fCbrAGsveloZ",
        "colab_type": "code",
        "outputId": "9feccf38-4c15-4f2e-8b4e-be6f8e007405",
        "colab": {
          "base_uri": "https://localhost:8080/",
          "height": 136
        }
      },
      "source": [
        "a = 0 # counter\n",
        "while a != 'Exit':\n",
        "  print(a)\n",
        "  a = input('input a massage:')\n",
        "\n",
        "print(\"ออกแล้ว\")"
      ],
      "execution_count": 0,
      "outputs": [
        {
          "output_type": "stream",
          "text": [
            "0\n",
            "input a massage:45\n",
            "45\n",
            "input a massage:exit\n",
            "exit\n",
            "input a massage:Exit\n",
            "ออกแล้ว\n"
          ],
          "name": "stdout"
        }
      ]
    },
    {
      "cell_type": "code",
      "metadata": {
        "id": "NgsafO1sfYE0",
        "colab_type": "code",
        "outputId": "b927f63e-65e4-4b17-c6d0-77b13324c800",
        "colab": {
          "base_uri": "https://localhost:8080/",
          "height": 68
        }
      },
      "source": [
        "for i in [1,2,3]:\n",
        "  print(i**2)"
      ],
      "execution_count": 0,
      "outputs": [
        {
          "output_type": "stream",
          "text": [
            "1\n",
            "4\n",
            "9\n"
          ],
          "name": "stdout"
        }
      ]
    },
    {
      "cell_type": "code",
      "metadata": {
        "id": "ahq2UnIlgdL9",
        "colab_type": "code",
        "outputId": "a3a9c87c-ce09-455a-bf61-2fbb5af1c15d",
        "colab": {
          "base_uri": "https://localhost:8080/",
          "height": 340
        }
      },
      "source": [
        "for i in 'Learning for wisdom':\n",
        "  print(i)"
      ],
      "execution_count": 0,
      "outputs": [
        {
          "output_type": "stream",
          "text": [
            "L\n",
            "e\n",
            "a\n",
            "r\n",
            "n\n",
            "i\n",
            "n\n",
            "g\n",
            " \n",
            "f\n",
            "o\n",
            "r\n",
            " \n",
            "w\n",
            "i\n",
            "s\n",
            "d\n",
            "o\n",
            "m\n"
          ],
          "name": "stdout"
        }
      ]
    },
    {
      "cell_type": "code",
      "metadata": {
        "id": "IA-4Ysk-g0LT",
        "colab_type": "code",
        "outputId": "7210cd74-825f-4515-c872-d6f044603dff",
        "colab": {
          "base_uri": "https://localhost:8080/",
          "height": 340
        }
      },
      "source": [
        "msg = 'Learning for wisdom'\n",
        "for i in msg:\n",
        "  print(i)"
      ],
      "execution_count": 0,
      "outputs": [
        {
          "output_type": "stream",
          "text": [
            "L\n",
            "e\n",
            "a\n",
            "r\n",
            "n\n",
            "i\n",
            "n\n",
            "g\n",
            " \n",
            "f\n",
            "o\n",
            "r\n",
            " \n",
            "w\n",
            "i\n",
            "s\n",
            "d\n",
            "o\n",
            "m\n"
          ],
          "name": "stdout"
        }
      ]
    },
    {
      "cell_type": "code",
      "metadata": {
        "id": "c0kVDxJIhYQp",
        "colab_type": "code",
        "outputId": "50835007-c309-4de5-ed6a-0c8815e112f2",
        "colab": {
          "base_uri": "https://localhost:8080/",
          "height": 34
        }
      },
      "source": [
        "len(msg)"
      ],
      "execution_count": 0,
      "outputs": [
        {
          "output_type": "execute_result",
          "data": {
            "text/plain": [
              "19"
            ]
          },
          "metadata": {
            "tags": []
          },
          "execution_count": 13
        }
      ]
    },
    {
      "cell_type": "code",
      "metadata": {
        "id": "QBrcSHkEheP9",
        "colab_type": "code",
        "outputId": "7e9484d6-32ef-44d4-8640-6d059cb7a251",
        "colab": {
          "base_uri": "https://localhost:8080/",
          "height": 34
        }
      },
      "source": [
        "range(10)"
      ],
      "execution_count": 0,
      "outputs": [
        {
          "output_type": "execute_result",
          "data": {
            "text/plain": [
              "range(0, 10)"
            ]
          },
          "metadata": {
            "tags": []
          },
          "execution_count": 14
        }
      ]
    },
    {
      "cell_type": "code",
      "metadata": {
        "id": "4ttksXQMho3N",
        "colab_type": "code",
        "outputId": "2d3b9051-f8dd-4a16-e5bf-9b55f28181ce",
        "colab": {
          "base_uri": "https://localhost:8080/",
          "height": 221
        }
      },
      "source": [
        "for i in range(12):\n",
        "  print(i)"
      ],
      "execution_count": 0,
      "outputs": [
        {
          "output_type": "stream",
          "text": [
            "0\n",
            "1\n",
            "2\n",
            "3\n",
            "4\n",
            "5\n",
            "6\n",
            "7\n",
            "8\n",
            "9\n",
            "10\n",
            "11\n"
          ],
          "name": "stdout"
        }
      ]
    },
    {
      "cell_type": "code",
      "metadata": {
        "id": "ZlehO79Rh2zd",
        "colab_type": "code",
        "outputId": "f450628a-ce6f-48bf-c5af-c0d434492af6",
        "colab": {
          "base_uri": "https://localhost:8080/",
          "height": 102
        }
      },
      "source": [
        "for i in range(10,15):\n",
        "  print(i)"
      ],
      "execution_count": 0,
      "outputs": [
        {
          "output_type": "stream",
          "text": [
            "10\n",
            "11\n",
            "12\n",
            "13\n",
            "14\n"
          ],
          "name": "stdout"
        }
      ]
    },
    {
      "cell_type": "code",
      "metadata": {
        "id": "tfgHZYnviATN",
        "colab_type": "code",
        "outputId": "9896b1a2-0560-4362-c9d5-ee3ec6471683",
        "colab": {
          "base_uri": "https://localhost:8080/",
          "height": 119
        }
      },
      "source": [
        "for i in range(10,21,2):\n",
        "  print(i)"
      ],
      "execution_count": 0,
      "outputs": [
        {
          "output_type": "stream",
          "text": [
            "10\n",
            "12\n",
            "14\n",
            "16\n",
            "18\n",
            "20\n"
          ],
          "name": "stdout"
        }
      ]
    },
    {
      "cell_type": "code",
      "metadata": {
        "id": "h3WzTe4Uita_",
        "colab_type": "code",
        "colab": {}
      },
      "source": [
        ""
      ],
      "execution_count": 0,
      "outputs": []
    }
  ]
}