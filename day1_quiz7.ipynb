{
  "nbformat": 4,
  "nbformat_minor": 0,
  "metadata": {
    "colab": {
      "name": "day1_quiz7.ipynb",
      "provenance": []
    },
    "kernelspec": {
      "name": "python3",
      "display_name": "Python 3"
    }
  },
  "cells": [
    {
      "cell_type": "code",
      "metadata": {
        "id": "UXNFpa3A22lo",
        "colab_type": "code",
        "outputId": "aeedcb87-16f2-4172-c31a-9d50f2d83f2c",
        "colab": {
          "base_uri": "https://localhost:8080/",
          "height": 34
        }
      },
      "source": [
        "grade = 81\n",
        "if (grade > 80):\n",
        "  print('A')\n",
        "elif(grade > 70):\n",
        "  print('B')\n",
        "elif(grade > 60):\n",
        "  print('C')\n",
        "elif(grade > 50):\n",
        "  print('D')\n",
        "else:\n",
        "  print('F')"
      ],
      "execution_count": 0,
      "outputs": [
        {
          "output_type": "stream",
          "text": [
            "A\n"
          ],
          "name": "stdout"
        }
      ]
    }
  ]
}