{
  "nbformat": 4,
  "nbformat_minor": 0,
  "metadata": {
    "colab": {
      "name": "day1_quiz1.ipynb",
      "provenance": []
    },
    "kernelspec": {
      "name": "python3",
      "display_name": "Python 3"
    }
  },
  "cells": [
    {
      "cell_type": "code",
      "metadata": {
        "id": "Wfo4CACfaoaD",
        "colab_type": "code",
        "outputId": "86e3c660-05ab-4df9-91b9-856ae39bc66a",
        "colab": {
          "base_uri": "https://localhost:8080/",
          "height": 34
        }
      },
      "source": [
        "2345 % 13"
      ],
      "execution_count": 0,
      "outputs": [
        {
          "output_type": "execute_result",
          "data": {
            "text/plain": [
              "5"
            ]
          },
          "metadata": {
            "tags": []
          },
          "execution_count": 3
        }
      ]
    },
    {
      "cell_type": "code",
      "metadata": {
        "id": "T6KYqus6b3yI",
        "colab_type": "code",
        "outputId": "87c2c5f2-cce5-4aef-ff86-522b203dc038",
        "colab": {
          "base_uri": "https://localhost:8080/",
          "height": 34
        }
      },
      "source": [
        "1567 // 17"
      ],
      "execution_count": 0,
      "outputs": [
        {
          "output_type": "execute_result",
          "data": {
            "text/plain": [
              "92"
            ]
          },
          "metadata": {
            "tags": []
          },
          "execution_count": 2
        }
      ]
    },
    {
      "cell_type": "code",
      "metadata": {
        "id": "owcTPGqgb3ed",
        "colab_type": "code",
        "colab": {}
      },
      "source": [
        "# FirstName และ Firstname เป็นตัวแปรคนละตัวกัน"
      ],
      "execution_count": 0,
      "outputs": []
    },
    {
      "cell_type": "code",
      "metadata": {
        "id": "fHfkJXg8b3S1",
        "colab_type": "code",
        "colab": {}
      },
      "source": [
        "# 13Friday ไม่เป็นตัวแปร"
      ],
      "execution_count": 0,
      "outputs": []
    },
    {
      "cell_type": "code",
      "metadata": {
        "id": "6NEXIooscr-g",
        "colab_type": "code",
        "outputId": "703a6c23-6735-4436-d547-335014377893",
        "colab": {
          "base_uri": "https://localhost:8080/",
          "height": 34
        }
      },
      "source": [
        "print('2345 % 13 is {} and 1567 // 17 is {}.'.format(2345 % 13,1567 // 17))"
      ],
      "execution_count": 0,
      "outputs": [
        {
          "output_type": "stream",
          "text": [
            "2345 % 13 is 5 and 1567 // 17 is 92.\n"
          ],
          "name": "stdout"
        }
      ]
    }
  ]
}