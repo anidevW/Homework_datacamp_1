{
  "nbformat": 4,
  "nbformat_minor": 0,
  "metadata": {
    "colab": {
      "name": "day1_quiz4.ipynb",
      "provenance": []
    },
    "kernelspec": {
      "name": "python3",
      "display_name": "Python 3"
    }
  },
  "cells": [
    {
      "cell_type": "code",
      "metadata": {
        "id": "vwFQO6LG3Aim",
        "colab_type": "code",
        "outputId": "a62e647a-9901-433e-d010-b50a80b184ee",
        "colab": {
          "base_uri": "https://localhost:8080/",
          "height": 34
        }
      },
      "source": [
        "n_lst = [[[1,3],[3,4]],[5,[5,6],[7,8]]]\n",
        "n_lst[1][1][1]"
      ],
      "execution_count": 0,
      "outputs": [
        {
          "output_type": "execute_result",
          "data": {
            "text/plain": [
              "6"
            ]
          },
          "metadata": {
            "tags": []
          },
          "execution_count": 4
        }
      ]
    },
    {
      "cell_type": "code",
      "metadata": {
        "id": "6hilEFIt6SRA",
        "colab_type": "code",
        "outputId": "fe9af03d-ab79-4af0-9ba0-136e86c7f08b",
        "colab": {
          "base_uri": "https://localhost:8080/",
          "height": 54
        }
      },
      "source": [
        "name = [['Louis','Agassiz',45],['Mary','Anning',75],['Robert','Goddard',25],['Thomas','Gold',54]]\n",
        "print(name)"
      ],
      "execution_count": 0,
      "outputs": [
        {
          "output_type": "stream",
          "text": [
            "[['Louis', 'Agassiz', 45], ['Mary', 'Anning', 75], ['Robert', 'Goddard', 25], ['Thomas', 'Gold', 54]]\n"
          ],
          "name": "stdout"
        }
      ]
    },
    {
      "cell_type": "code",
      "metadata": {
        "id": "pKHuBapT9cjg",
        "colab_type": "code",
        "outputId": "b6fc0a0a-316a-40c9-b19d-3c145b862a82",
        "colab": {
          "base_uri": "https://localhost:8080/",
          "height": 34
        }
      },
      "source": [
        "del name[3]\n",
        "print(name)"
      ],
      "execution_count": 0,
      "outputs": [
        {
          "output_type": "stream",
          "text": [
            "[['Louis', 'Agassiz', 45], ['Mary', 'Anning', 75], ['Robert', 'Goddard', 25]]\n"
          ],
          "name": "stdout"
        }
      ]
    },
    {
      "cell_type": "code",
      "metadata": {
        "id": "m-2r_tyz-tn2",
        "colab_type": "code",
        "outputId": "fa4247a9-47bb-4eb9-a405-824469d41371",
        "colab": {
          "base_uri": "https://localhost:8080/",
          "height": 54
        }
      },
      "source": [
        "name.insert(0,['Thomas','Gold',54])\n",
        "print(name)"
      ],
      "execution_count": 0,
      "outputs": [
        {
          "output_type": "stream",
          "text": [
            "[['Thomas', 'Gold', 54], ['Louis', 'Agassiz', 45], ['Mary', 'Anning', 75], ['Robert', 'Goddard', 25]]\n"
          ],
          "name": "stdout"
        }
      ]
    },
    {
      "cell_type": "code",
      "metadata": {
        "id": "teb2Pd0S_jxM",
        "colab_type": "code",
        "outputId": "c8c58d59-2479-4c25-9ae7-abc76ade27ff",
        "colab": {
          "base_uri": "https://localhost:8080/",
          "height": 54
        }
      },
      "source": [
        "name[1][2]=85\n",
        "print(name) "
      ],
      "execution_count": 0,
      "outputs": [
        {
          "output_type": "stream",
          "text": [
            "[['Thomas', 'Gold', 54], ['Louis', 'Agassiz', 85], ['Mary', 'Anning', 75], ['Robert', 'Goddard', 25]]\n"
          ],
          "name": "stdout"
        }
      ]
    }
  ]
}