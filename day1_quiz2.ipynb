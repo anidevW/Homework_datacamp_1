{
  "nbformat": 4,
  "nbformat_minor": 0,
  "metadata": {
    "colab": {
      "name": "day1_quiz2.ipynb",
      "provenance": []
    },
    "kernelspec": {
      "name": "python3",
      "display_name": "Python 3"
    }
  },
  "cells": [
    {
      "cell_type": "code",
      "metadata": {
        "id": "Wil_GhjIi9VN",
        "colab_type": "code",
        "outputId": "c0adf4f2-c419-4938-9343-0416600916a1",
        "colab": {
          "base_uri": "https://localhost:8080/",
          "height": 34
        }
      },
      "source": [
        "a = lambda x : x / 3\n",
        "print(a(2))"
      ],
      "execution_count": 0,
      "outputs": [
        {
          "output_type": "stream",
          "text": [
            "0.6666666666666666\n"
          ],
          "name": "stdout"
        }
      ]
    },
    {
      "cell_type": "code",
      "metadata": {
        "id": "BwxwQcJ9jaVm",
        "colab_type": "code",
        "outputId": "437b9f67-11f4-445c-d293-9185ea8c77fb",
        "colab": {
          "base_uri": "https://localhost:8080/",
          "height": 34
        }
      },
      "source": [
        "def ave(a,b,c,d):\n",
        "  ave1 = (a + b + c + d) / 4\n",
        "  return ave1\n",
        "print(ave(1,2,3,4))"
      ],
      "execution_count": 0,
      "outputs": [
        {
          "output_type": "stream",
          "text": [
            "2.5\n"
          ],
          "name": "stdout"
        }
      ]
    },
    {
      "cell_type": "code",
      "metadata": {
        "id": "zkYaoGujkxCX",
        "colab_type": "code",
        "outputId": "6a787c13-b8b9-4261-f714-66bb333e3d3d",
        "colab": {
          "base_uri": "https://localhost:8080/",
          "height": 34
        }
      },
      "source": [
        "ave2 = lambda a,b,c : (a + b + c) / 3\n",
        "print(ave2(1,2,3))"
      ],
      "execution_count": 0,
      "outputs": [
        {
          "output_type": "stream",
          "text": [
            "2.0\n"
          ],
          "name": "stdout"
        }
      ]
    }
  ]
}