{
  "nbformat": 4,
  "nbformat_minor": 0,
  "metadata": {
    "colab": {
      "name": "pandas-quiz-23.ipynb",
      "provenance": [],
      "collapsed_sections": []
    },
    "kernelspec": {
      "name": "python3",
      "display_name": "Python 3"
    }
  },
  "cells": [
    {
      "cell_type": "markdown",
      "metadata": {
        "id": "hLIzAPSwuFxX"
      },
      "source": [
        "23) ( Optional ) แสดง ผลนามสกุลบที่ไม่มีการซ้ำกันเลย และนับว่ามีกี่นามสกุล"
      ]
    },
    {
      "cell_type": "code",
      "metadata": {
        "id": "tqtNMBroP1dh",
        "colab": {
          "base_uri": "https://localhost:8080/",
          "height": 397
        },
        "outputId": "2e208e67-757f-403e-d222-a3acea8c1f79"
      },
      "source": [
        "import numpy as np\n",
        "import pandas as pd\n",
        "from google.colab import files\n",
        "import io\n",
        "\n",
        "uploaded = files.upload()"
      ],
      "execution_count": null,
      "outputs": [
        {
          "output_type": "display_data",
          "data": {
            "text/html": [
              "\n",
              "     <input type=\"file\" id=\"files-84e72466-6833-45ba-8d20-d6c644d1a54c\" name=\"files[]\" multiple disabled\n",
              "        style=\"border:none\" />\n",
              "     <output id=\"result-84e72466-6833-45ba-8d20-d6c644d1a54c\">\n",
              "      Upload widget is only available when the cell has been executed in the\n",
              "      current browser session. Please rerun this cell to enable.\n",
              "      </output>\n",
              "      <script src=\"/nbextensions/google.colab/files.js\"></script> "
            ],
            "text/plain": [
              "<IPython.core.display.HTML object>"
            ]
          },
          "metadata": {
            "tags": []
          }
        },
        {
          "output_type": "error",
          "ename": "MessageError",
          "evalue": "ignored",
          "traceback": [
            "\u001b[0;31m---------------------------------------------------------------------------\u001b[0m",
            "\u001b[0;31mMessageError\u001b[0m                              Traceback (most recent call last)",
            "\u001b[0;32m<ipython-input-1-a411e7f3b692>\u001b[0m in \u001b[0;36m<module>\u001b[0;34m()\u001b[0m\n\u001b[1;32m      4\u001b[0m \u001b[0;32mimport\u001b[0m \u001b[0mio\u001b[0m\u001b[0;34m\u001b[0m\u001b[0;34m\u001b[0m\u001b[0m\n\u001b[1;32m      5\u001b[0m \u001b[0;34m\u001b[0m\u001b[0m\n\u001b[0;32m----> 6\u001b[0;31m \u001b[0muploaded\u001b[0m \u001b[0;34m=\u001b[0m \u001b[0mfiles\u001b[0m\u001b[0;34m.\u001b[0m\u001b[0mupload\u001b[0m\u001b[0;34m(\u001b[0m\u001b[0;34m)\u001b[0m\u001b[0;34m\u001b[0m\u001b[0;34m\u001b[0m\u001b[0m\n\u001b[0m",
            "\u001b[0;32m/usr/local/lib/python3.6/dist-packages/google/colab/files.py\u001b[0m in \u001b[0;36mupload\u001b[0;34m()\u001b[0m\n\u001b[1;32m     62\u001b[0m   result = _output.eval_js(\n\u001b[1;32m     63\u001b[0m       'google.colab._files._uploadFiles(\"{input_id}\", \"{output_id}\")'.format(\n\u001b[0;32m---> 64\u001b[0;31m           input_id=input_id, output_id=output_id))\n\u001b[0m\u001b[1;32m     65\u001b[0m   \u001b[0mfiles\u001b[0m \u001b[0;34m=\u001b[0m \u001b[0m_collections\u001b[0m\u001b[0;34m.\u001b[0m\u001b[0mdefaultdict\u001b[0m\u001b[0;34m(\u001b[0m\u001b[0m_six\u001b[0m\u001b[0;34m.\u001b[0m\u001b[0mbinary_type\u001b[0m\u001b[0;34m)\u001b[0m\u001b[0;34m\u001b[0m\u001b[0;34m\u001b[0m\u001b[0m\n\u001b[1;32m     66\u001b[0m   \u001b[0;31m# Mapping from original filename to filename as saved locally.\u001b[0m\u001b[0;34m\u001b[0m\u001b[0;34m\u001b[0m\u001b[0;34m\u001b[0m\u001b[0m\n",
            "\u001b[0;32m/usr/local/lib/python3.6/dist-packages/google/colab/output/_js.py\u001b[0m in \u001b[0;36meval_js\u001b[0;34m(script, ignore_result)\u001b[0m\n\u001b[1;32m     37\u001b[0m   \u001b[0;32mif\u001b[0m \u001b[0mignore_result\u001b[0m\u001b[0;34m:\u001b[0m\u001b[0;34m\u001b[0m\u001b[0;34m\u001b[0m\u001b[0m\n\u001b[1;32m     38\u001b[0m     \u001b[0;32mreturn\u001b[0m\u001b[0;34m\u001b[0m\u001b[0;34m\u001b[0m\u001b[0m\n\u001b[0;32m---> 39\u001b[0;31m   \u001b[0;32mreturn\u001b[0m \u001b[0m_message\u001b[0m\u001b[0;34m.\u001b[0m\u001b[0mread_reply_from_input\u001b[0m\u001b[0;34m(\u001b[0m\u001b[0mrequest_id\u001b[0m\u001b[0;34m)\u001b[0m\u001b[0;34m\u001b[0m\u001b[0;34m\u001b[0m\u001b[0m\n\u001b[0m\u001b[1;32m     40\u001b[0m \u001b[0;34m\u001b[0m\u001b[0m\n\u001b[1;32m     41\u001b[0m \u001b[0;34m\u001b[0m\u001b[0m\n",
            "\u001b[0;32m/usr/local/lib/python3.6/dist-packages/google/colab/_message.py\u001b[0m in \u001b[0;36mread_reply_from_input\u001b[0;34m(message_id, timeout_sec)\u001b[0m\n\u001b[1;32m    104\u001b[0m         reply.get('colab_msg_id') == message_id):\n\u001b[1;32m    105\u001b[0m       \u001b[0;32mif\u001b[0m \u001b[0;34m'error'\u001b[0m \u001b[0;32min\u001b[0m \u001b[0mreply\u001b[0m\u001b[0;34m:\u001b[0m\u001b[0;34m\u001b[0m\u001b[0;34m\u001b[0m\u001b[0m\n\u001b[0;32m--> 106\u001b[0;31m         \u001b[0;32mraise\u001b[0m \u001b[0mMessageError\u001b[0m\u001b[0;34m(\u001b[0m\u001b[0mreply\u001b[0m\u001b[0;34m[\u001b[0m\u001b[0;34m'error'\u001b[0m\u001b[0;34m]\u001b[0m\u001b[0;34m)\u001b[0m\u001b[0;34m\u001b[0m\u001b[0;34m\u001b[0m\u001b[0m\n\u001b[0m\u001b[1;32m    107\u001b[0m       \u001b[0;32mreturn\u001b[0m \u001b[0mreply\u001b[0m\u001b[0;34m.\u001b[0m\u001b[0mget\u001b[0m\u001b[0;34m(\u001b[0m\u001b[0;34m'data'\u001b[0m\u001b[0;34m,\u001b[0m \u001b[0;32mNone\u001b[0m\u001b[0;34m)\u001b[0m\u001b[0;34m\u001b[0m\u001b[0;34m\u001b[0m\u001b[0m\n\u001b[1;32m    108\u001b[0m \u001b[0;34m\u001b[0m\u001b[0m\n",
            "\u001b[0;31mMessageError\u001b[0m: TypeError: Cannot read property '_uploadFiles' of undefined"
          ]
        }
      ]
    },
    {
      "cell_type": "code",
      "metadata": {
        "id": "bpDcbl1vE2qR"
      },
      "source": [
        "df = pd.read_csv('train.csv')"
      ],
      "execution_count": null,
      "outputs": []
    },
    {
      "cell_type": "code",
      "metadata": {
        "id": "78kpu5qIbA91",
        "colab": {
          "base_uri": "https://localhost:8080/",
          "height": 1000
        },
        "outputId": "d830b8df-8246-4fc0-cebe-e01b69c43dff"
      },
      "source": [
        "lastName = df['Name'].str.extract(r'([\\s\\w\\'\\-]+)')\n",
        "lastName.sort_values(0, inplace=True)\n",
        "duplicatedLN = lastName[lastName.duplicated()][0].unique()\n",
        "noDuplicateLN = lastName[~lastName.isin(duplicatedLN)].dropna()[0].unique()\n",
        "print('จำนวนนามสกุลที่ไม่ซ้ำกันเลย = {} นามสกุล'.format(len(noDuplicateLN)))\n",
        "print(noDuplicateLN)"
      ],
      "execution_count": null,
      "outputs": [
        {
          "output_type": "stream",
          "text": [
            "จำนวนนามสกุลที่ไม่ซ้ำกันเลย = 534 นามสกุล\n",
            "['Abbing' 'Adahl' 'Adams' 'Ahlin' 'Aks' 'Albimona' 'Alexander' 'Alhomaki'\n",
            " 'Allum' 'Andersen-Jensen' 'Anderson' 'Andreasson' 'Andrew' 'Angle'\n",
            " 'Appleton' 'Artagaveytia' 'Asim' 'Astor' 'Aubart' 'Augustsson' 'Ayoub'\n",
            " 'Badt' 'Bailey' 'Balkic' 'Ball' 'Banfield' 'Barah' 'Barber' 'Barkworth'\n",
            " 'Barton' 'Bateman' 'Baumann' 'Bazzani' 'Beavan' 'Beesley' 'Behr'\n",
            " 'Bengtsson' 'Berglund' 'Berriman' 'Betros' 'Bidois' 'Bing' 'Birkeland'\n",
            " 'Bissette' 'Bjornstrom-Steffansson' 'Blackwell' 'Blank' 'Bonnell'\n",
            " 'Bostandyeff' 'Bowen' 'Bowerman' 'Bracken' 'Bradley' 'Brewe'\n",
            " 'Brocklebank' 'Bryhl' 'Burke' 'Burns' 'Buss' 'Butler' 'Butt' 'Byles'\n",
            " 'Bystrom' 'Cairns' 'Calderhead' 'Cameron' 'Campbell' 'Canavan' 'Cann'\n",
            " 'Caram' 'Carbines' 'Cardeza' 'Carr' 'Carrau' 'Cavendish' 'Celotti'\n",
            " 'Chaffee' 'Charters' 'Cherry' 'Chibnall' 'Chip' 'Christmann' 'Christy'\n",
            " 'Chronopoulos' 'Clarke' 'Cleaver' 'Clifford' 'Coelho' 'Cohen' 'Coleridge'\n",
            " 'Collander' 'Colley' 'Compton' 'Connaghton' 'Connolly' 'Connors' 'Cook'\n",
            " 'Cor' 'Corn' 'Coxon' 'Crease' 'Cribb' 'Culumovic' 'Cumings' 'Cunningham'\n",
            " 'Dahl' 'Dahlberg' 'Dakic' 'Daniel' 'Danoff' 'Dantcheff' 'Davidson'\n",
            " 'Davis' 'Davison' 'Denkoff' 'Dennis' 'Devaney' 'Dimic' 'Dodge' 'Doharr'\n",
            " 'Dooley' 'Dorking' 'Douglas' 'Dowdell' 'Downton' 'Drazenoic' 'Drew'\n",
            " 'Duane' 'Duran y More' 'Edvardsson' 'Eitemiller' 'Eklund' 'Ekstrom'\n",
            " 'Elsbury' 'Emanuel' 'Emir' 'Endres' 'Eustis' 'Fahlstrom' 'Farrell'\n",
            " 'Farthing' 'Faunthorpe' 'Fischer' 'Fleming' 'Foo' 'Foreman' 'Fox'\n",
            " 'Francatelli' 'Frolicher' 'Frolicher-Stehli' 'Frost' 'Fry' 'Funk'\n",
            " 'Fynney' 'Gale' 'Gallagher' 'Garfirth' 'Garside' 'Gaskell' 'Gavey' 'Gee'\n",
            " 'Gheorgheff' 'Giglio' 'Giles' 'Gilinski' 'Gill' 'Gillespie' 'Gilnagh'\n",
            " 'Givard' 'Glynn' 'Goldschmidt' 'Goncalves' 'Green' 'Greenberg'\n",
            " 'Greenfield' 'Gronnestad' 'Guggenheim' 'Haas' 'Hale' 'Hampe' 'Hanna'\n",
            " 'Harder' 'Harknett' 'Harmer' 'Harrington' 'Harrison' 'Hassab' 'Hassan'\n",
            " 'Hawksford' 'Healy' 'Hedman' 'Hegarty' 'Heikkinen' 'Heininen'\n",
            " 'Hendekovic' 'Henry' 'Hewlett' 'Hirvonen' 'Hodges' 'Hogeboom' 'Hold'\n",
            " 'Holm' 'Homer' 'Honkanen' 'Hood' 'Horgan' 'Hosono' 'Humblen' 'Hunt'\n",
            " 'Ibrahim Shawah' 'Icard' 'Ilett' 'Ilmakangas' 'Isham' 'Ivanoff'\n",
            " 'Jalsevac' 'Jansson' 'Jardin' 'Jarvis' 'Jenkin' 'Jermyn' 'Jerwan'\n",
            " 'Johannesen-Bratthammer' 'Johanson' 'Jonkoff' 'Jonsson' 'Kallio' 'Kalvik'\n",
            " 'Karaic' 'Karlsson' 'Karun' 'Kassem' 'Keefe' 'Kent' 'Kenyon' 'Kiernan'\n",
            " 'Kilgannon' 'Kimball' 'Kink' 'Kink-Heilmann' 'Kirkland' 'Klaber' 'Klasen'\n",
            " 'Knight' 'Kraeff' 'Kvillner' 'Lahoud' 'Lahtinen' 'Laitinen' 'Laleff'\n",
            " 'Landergren' 'Lang' 'LeRoy' 'Leader' 'Leeni' 'Lehmann' 'Leinonen'\n",
            " 'Leitch' 'Lemberopolous' 'Lemore' 'Lennon' 'Leonard' 'Lester' 'Lesurer'\n",
            " 'Levy' 'Lewy' 'Leyson' 'Lievens' 'Lindahl' 'Lindblom' 'Lindell'\n",
            " 'Lindqvist' 'Lines' 'Ling' 'Long' 'Longley' 'Louch' 'Lovell' 'Lulic'\n",
            " 'Lundahl' 'Lurette' 'Mack' 'Madigan' 'Madill' 'Madsen' 'Maenpaa' 'Maioni'\n",
            " 'Maisner' 'Mamee' 'Mangan' 'Mannion' 'Marechal' 'Markoff' 'Markun'\n",
            " 'Marvin' 'Masselmani' 'Matthews' 'Mayne' 'McCarthy' 'McCormack'\n",
            " 'McDermott' 'McEvoy' 'McGough' 'McGovern' 'McGowan' 'McKane' 'McMahon'\n",
            " 'McNamee' 'Meanwell' 'Meek' 'Mellors' 'Meo' 'Mernagh' 'Millet' 'Milling'\n",
            " 'Mineff' 'Mionoff' 'Mitchell' 'Mitkoff' 'Mockler' 'Moen' 'Molson'\n",
            " 'Montvila' 'Moore' 'Moraweck' 'Morrow' 'Moss' 'Moussa' 'Moutal' 'Mudd'\n",
            " 'Mullens' 'Murdlin' 'Myhrman' 'Naidenoff' 'Najib' 'Nankoff' 'Natsch'\n",
            " 'Nenkoff' 'Newsom' 'Nicholls' 'Nicholson' 'Nilsson' 'Nirva' 'Niskanen'\n",
            " 'Norman' 'Nosworthy' 'Novel' 'Nye' 'Nysten' 'Nysveen' \"O'Connell\"\n",
            " \"O'Connor\" \"O'Driscoll\" \"O'Dwyer\" \"O'Leary\" \"O'Sullivan\" 'Odahl' 'Ohman'\n",
            " 'Olsvigen' 'Osen' 'Osman' 'Ostby' 'Otter' 'Padro y Manent' 'Pain'\n",
            " 'Parkes' 'Parr' 'Parrish' 'Partner' 'Pasic' 'Patchett' 'Paulner'\n",
            " 'Pavlovic' 'Peduzzi' 'Pekoniemi' 'Pengelly' 'Perkin' 'Pernot' 'Perreault'\n",
            " 'Persson' 'Peters' 'Petranec' 'Petterson' 'Pettersson' 'Peuchen'\n",
            " 'Phillips' 'Pickard' 'Pinsky' 'Plotcharsky' 'Ponesell' 'Porter' 'Potter'\n",
            " 'Radeff' 'Razi' 'Reed' 'Reeves' 'Rekic' 'Reuchlin' 'Reynaldo' 'Richard'\n",
            " 'Ridsdale' 'Ringhini' 'Rintamaki' 'Risien' 'Robbins' 'Robert' 'Robins'\n",
            " 'Roebling' 'Rogers' 'Romaine' 'Rommetvedt' 'Rood' 'Ross' 'Rothes'\n",
            " 'Rothschild' 'Rouse' 'Rugg' 'Rush' 'Ryan' 'Saalfeld' 'Sadlier' 'Sagesser'\n",
            " 'Salkjelsvik' 'Salonen' 'Samaan' 'Saundercock' 'Sawyer' 'Scanlan'\n",
            " 'Sdycoff' 'Sedgwick' 'Serepeca' 'Seward' 'Sharp' 'Sheerlinck' 'Shellard'\n",
            " 'Shelley' 'Shorney' 'Shutes' 'Silven' 'Silverthorne' 'Simmons'\n",
            " 'Simonius-Blumer' 'Sinkkonen' 'Sirayanian' 'Sirota' 'Sivic' 'Sivola'\n",
            " 'Sjoblom' 'Sjostedt' 'Slabenoff' 'Slayter' 'Slemen' 'Slocovski' 'Sloper'\n",
            " 'Smart' 'Smiljanic' 'Sobey' 'Soholt' 'Somerton' 'Spedden' 'Spencer'\n",
            " 'Stahelin-Maeglin' 'Staneff' 'Stankovic' 'Stead' 'Stephenson' 'Stewart'\n",
            " 'Stone' 'Stoytcheff' 'Strandberg' 'Stranden' 'Sunderland' 'Sundman'\n",
            " 'Sutehall' 'Sutton' 'Swift' 'Theobald' 'Thomas' 'Thorne' 'Tikkanen'\n",
            " 'Tobin' 'Todoroff' 'Tomlin' 'Toomey' 'Torber' 'Tornquist' 'Toufik'\n",
            " 'Touma' 'Troupiansky' 'Trout' 'Troutt' 'Turcin' 'Turja' 'Turkula'\n",
            " 'Uruchurtu' 'Van der hoef' 'Vande Velde' 'Vande Walle' 'Vanden Steen'\n",
            " 'Vander Cruyssen' 'Vestrom' 'Vovk' 'Waelens' 'Walker' 'Ward' 'Warren'\n",
            " 'Watson' 'Watt' 'Weir' 'Weisz' 'Wells' 'Wheadon' 'Widegren' 'Widener'\n",
            " 'Wiklund' 'Wilhelms' 'Willey' 'Williams-Lambert' 'Windelov' 'Wiseman'\n",
            " 'Woolner' 'Wright' 'Young' 'Youseff' 'Yousif' 'Yousseff' 'Yrois'\n",
            " 'Zimmerman' 'de Messemaeker' 'de Mulder' 'de Pelsmaeker' 'del Carlo'\n",
            " 'van Billiard' 'van Melkebeke']\n"
          ],
          "name": "stdout"
        }
      ]
    }
  ]
}